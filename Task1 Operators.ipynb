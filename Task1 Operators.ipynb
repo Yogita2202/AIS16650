{
 "cells": [
  {
   "cell_type": "code",
   "execution_count": 1,
   "id": "280ced4d-1718-494a-bbe5-4b9f7d86ae4c",
   "metadata": {},
   "outputs": [],
   "source": [
    "# operators in python\n",
    "# Arithmetic operator (+,-,*,/,**(power),%(modulus))\n",
    "# Assignment operator +=, -= , *=\n",
    "#comparisoin operator(>,<, ==, !=, <=, >=)\n",
    "#logical operator(And, or, not)\n",
    "#Identity operator( is, is not)\n",
    "#Membership operator(in, not in )\n"
   ]
  },
  {
   "cell_type": "code",
   "execution_count": 2,
   "id": "4aeb4308-7daf-4709-9573-da5f179d58ec",
   "metadata": {},
   "outputs": [
    {
     "data": {
      "text/plain": [
       "17.0"
      ]
     },
     "execution_count": 2,
     "metadata": {},
     "output_type": "execute_result"
    }
   ],
   "source": [
    "# Arithmatic Operator(+,-,*,/,**(power),%(modulus)\n",
    "85/5"
   ]
  },
  {
   "cell_type": "code",
   "execution_count": 3,
   "id": "a67cf0b1-d297-4f3d-b6c5-0db237b4623e",
   "metadata": {},
   "outputs": [
    {
     "name": "stdout",
     "output_type": "stream",
     "text": [
      "30\n"
     ]
    }
   ],
   "source": [
    "# #Assignment operrator\n",
    "#+=value\n",
    "# -=value\n",
    "# *=value\n",
    "# /=value\n",
    "\n",
    "x=20\n",
    "x+=10\n",
    "print(x)"
   ]
  },
  {
   "cell_type": "code",
   "execution_count": 6,
   "id": "108998d9-6e3d-4af7-b0ac-4eddc61ad899",
   "metadata": {},
   "outputs": [
    {
     "name": "stdout",
     "output_type": "stream",
     "text": [
      "25\n"
     ]
    }
   ],
   "source": [
    "x-=5 #x=x-5\n",
    "print(x)"
   ]
  },
  {
   "cell_type": "code",
   "execution_count": 7,
   "id": "ebebcff7-6f10-481f-993a-733476f7fea8",
   "metadata": {},
   "outputs": [
    {
     "name": "stdout",
     "output_type": "stream",
     "text": [
      "250\n"
     ]
    }
   ],
   "source": [
    "x*=10 #x=x*10\n",
    "print(x)"
   ]
  },
  {
   "cell_type": "code",
   "execution_count": 8,
   "id": "672cb10f-7c23-4463-aab6-047e4624250f",
   "metadata": {},
   "outputs": [
    {
     "data": {
      "text/plain": [
       "False"
      ]
     },
     "execution_count": 8,
     "metadata": {},
     "output_type": "execute_result"
    }
   ],
   "source": [
    "#comarision operator\n",
    "3!=3"
   ]
  },
  {
   "cell_type": "code",
   "execution_count": 9,
   "id": "ace759e7-6bbb-4f64-a756-4426ea6b3137",
   "metadata": {},
   "outputs": [
    {
     "data": {
      "text/plain": [
       "False"
      ]
     },
     "execution_count": 9,
     "metadata": {},
     "output_type": "execute_result"
    }
   ],
   "source": [
    "6<=5"
   ]
  },
  {
   "cell_type": "code",
   "execution_count": 10,
   "id": "e79a18a3-6c30-4284-92a6-144b126a01e7",
   "metadata": {},
   "outputs": [
    {
     "data": {
      "text/plain": [
       "True"
      ]
     },
     "execution_count": 10,
     "metadata": {},
     "output_type": "execute_result"
    }
   ],
   "source": [
    "10>=5"
   ]
  },
  {
   "cell_type": "code",
   "execution_count": 11,
   "id": "cb24be51-568d-499b-bf37-a3c8360aa37f",
   "metadata": {},
   "outputs": [
    {
     "data": {
      "text/plain": [
       "False"
      ]
     },
     "execution_count": 11,
     "metadata": {},
     "output_type": "execute_result"
    }
   ],
   "source": [
    "1!=1"
   ]
  },
  {
   "cell_type": "code",
   "execution_count": 12,
   "id": "9d119025-cde0-490f-a598-6f5e18d4bc38",
   "metadata": {},
   "outputs": [
    {
     "data": {
      "text/plain": [
       "True"
      ]
     },
     "execution_count": 12,
     "metadata": {},
     "output_type": "execute_result"
    }
   ],
   "source": [
    "25<=30"
   ]
  },
  {
   "cell_type": "code",
   "execution_count": 16,
   "id": "d7d10f88-5951-44a7-a984-a416df4c4dbb",
   "metadata": {},
   "outputs": [
    {
     "data": {
      "text/plain": [
       "True"
      ]
     },
     "execution_count": 16,
     "metadata": {},
     "output_type": "execute_result"
    }
   ],
   "source": [
    "#Logical operator\n",
    "# And-Returns True if both statements is true \n",
    "a=10;\n",
    "a < 25 or a < 15"
   ]
  },
  {
   "cell_type": "code",
   "execution_count": 18,
   "id": "aa31b085-78ce-4578-b36d-4f68815f7855",
   "metadata": {
    "scrolled": true
   },
   "outputs": [
    {
     "data": {
      "text/plain": [
       "True"
      ]
     },
     "execution_count": 18,
     "metadata": {},
     "output_type": "execute_result"
    }
   ],
   "source": [
    "#Not-Reverse the result, returns False if the result is true\n",
    "x=9;\n",
    "not( x < 10 and x < 0 )"
   ]
  },
  {
   "cell_type": "code",
   "execution_count": 19,
   "id": "1fb7724d-a94a-4120-ac49-5e5caff402c8",
   "metadata": {},
   "outputs": [
    {
     "data": {
      "text/plain": [
       "False"
      ]
     },
     "execution_count": 19,
     "metadata": {},
     "output_type": "execute_result"
    }
   ],
   "source": [
    "#Or-Returns True if one of the statement is true\n",
    "x=15;\n",
    "x < 4 or x < 8 "
   ]
  },
  {
   "cell_type": "code",
   "execution_count": 21,
   "id": "b1242da9-185a-4a85-9e7a-267f99ed13b6",
   "metadata": {},
   "outputs": [],
   "source": [
    "# #Identity Operators\n",
    "x=30"
   ]
  },
  {
   "cell_type": "code",
   "execution_count": 22,
   "id": "15e4f116-3fb7-467c-88e4-7a4fdc8fb845",
   "metadata": {},
   "outputs": [
    {
     "name": "stderr",
     "output_type": "stream",
     "text": [
      "<>:1: SyntaxWarning: \"is\" with a literal. Did you mean \"==\"?\n",
      "<>:1: SyntaxWarning: \"is\" with a literal. Did you mean \"==\"?\n",
      "C:\\Users\\SARATHI2\\AppData\\Local\\Temp\\ipykernel_2268\\3432095859.py:1: SyntaxWarning: \"is\" with a literal. Did you mean \"==\"?\n",
      "  x is 30\n"
     ]
    },
    {
     "data": {
      "text/plain": [
       "True"
      ]
     },
     "execution_count": 22,
     "metadata": {},
     "output_type": "execute_result"
    }
   ],
   "source": [
    "x is 30 "
   ]
  },
  {
   "cell_type": "code",
   "execution_count": 23,
   "id": "96dc17ab-8a09-419e-99c9-b2418cea7e73",
   "metadata": {},
   "outputs": [
    {
     "name": "stderr",
     "output_type": "stream",
     "text": [
      "<>:1: SyntaxWarning: \"is not\" with a literal. Did you mean \"!=\"?\n",
      "<>:1: SyntaxWarning: \"is not\" with a literal. Did you mean \"!=\"?\n",
      "C:\\Users\\SARATHI2\\AppData\\Local\\Temp\\ipykernel_2268\\377823176.py:1: SyntaxWarning: \"is not\" with a literal. Did you mean \"!=\"?\n",
      "  x is not 30\n"
     ]
    },
    {
     "data": {
      "text/plain": [
       "False"
      ]
     },
     "execution_count": 23,
     "metadata": {},
     "output_type": "execute_result"
    }
   ],
   "source": [
    "x is not 30 "
   ]
  },
  {
   "cell_type": "code",
   "execution_count": 24,
   "id": "1f0bde68-ebbc-437b-9ba2-b10d3d2f4488",
   "metadata": {},
   "outputs": [],
   "source": [
    "#Membership Operators \n",
    "x=(2,30,3,40,5,60)"
   ]
  },
  {
   "cell_type": "code",
   "execution_count": 25,
   "id": "305cf389-3b42-46eb-a7c4-4ceed2fcdba6",
   "metadata": {},
   "outputs": [
    {
     "data": {
      "text/plain": [
       "False"
      ]
     },
     "execution_count": 25,
     "metadata": {},
     "output_type": "execute_result"
    }
   ],
   "source": [
    "40 not in x "
   ]
  },
  {
   "cell_type": "code",
   "execution_count": 26,
   "id": "b68ab342-aa3c-41d4-a3ec-62b7213e12e6",
   "metadata": {},
   "outputs": [
    {
     "data": {
      "text/plain": [
       "True"
      ]
     },
     "execution_count": 26,
     "metadata": {},
     "output_type": "execute_result"
    }
   ],
   "source": [
    "60 in x"
   ]
  },
  {
   "cell_type": "code",
   "execution_count": null,
   "id": "9b475bee-cfd9-4a2c-a924-b638b1a9d62b",
   "metadata": {},
   "outputs": [],
   "source": []
  }
 ],
 "metadata": {
  "kernelspec": {
   "display_name": "Python 3 (ipykernel)",
   "language": "python",
   "name": "python3"
  },
  "language_info": {
   "codemirror_mode": {
    "name": "ipython",
    "version": 3
   },
   "file_extension": ".py",
   "mimetype": "text/x-python",
   "name": "python",
   "nbconvert_exporter": "python",
   "pygments_lexer": "ipython3",
   "version": "3.11.7"
  }
 },
 "nbformat": 4,
 "nbformat_minor": 5
}
