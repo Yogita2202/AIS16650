{
 "cells": [
  {
   "cell_type": "code",
   "execution_count": 3,
   "id": "49f0d111-bdd7-418b-a825-c57540a433ae",
   "metadata": {},
   "outputs": [
    {
     "name": "stdout",
     "output_type": "stream",
     "text": [
      "{'red', 'purple', 'green', 'black', 'blue'}\n"
     ]
    }
   ],
   "source": [
    "# Sets Methods\n",
    "#Add() - adds an elements to the set \n",
    "colours={'purple', 'black', 'red', 'blue'}\n",
    "colours.add(\"green\")\n",
    "print(colours)"
   ]
  },
  {
   "cell_type": "code",
   "execution_count": 4,
   "id": "185ceef0-d951-44cc-b728-60c9a117eca0",
   "metadata": {},
   "outputs": [
    {
     "name": "stdout",
     "output_type": "stream",
     "text": [
      "set()\n"
     ]
    }
   ],
   "source": [
    "#clear()- Removes all the elments from the set\n",
    "colours={'purple', 'black', 'red', 'blue'}\n",
    "colours.clear()\n",
    "print(colours)"
   ]
  },
  {
   "cell_type": "code",
   "execution_count": 5,
   "id": "e8cff6e1-dca3-4064-a226-36ebfa10986f",
   "metadata": {},
   "outputs": [
    {
     "name": "stdout",
     "output_type": "stream",
     "text": [
      "{'red', 'blue', 'purple', 'black'}\n"
     ]
    }
   ],
   "source": [
    "#copy()- Returns a copy of the test\n",
    "colours={'purple', 'black', 'red', 'blue'}\n",
    "colours.copy()\n",
    "print(colours)"
   ]
  },
  {
   "cell_type": "code",
   "execution_count": 10,
   "id": "a03e125d-2411-40e0-877f-a7f510fc4926",
   "metadata": {},
   "outputs": [
    {
     "name": "stdout",
     "output_type": "stream",
     "text": [
      "{'red', 'blue', 'purple'}\n"
     ]
    }
   ],
   "source": [
    "#Difference() - Returns a set conatining the difference between two or more sets\n",
    "colours={'purple', 'black', 'red', 'blue'}\n",
    "cars={ 'Jagour','black','swift'}\n",
    "x=colours.difference(cars)\n",
    "print(x)"
   ]
  },
  {
   "cell_type": "code",
   "execution_count": 11,
   "id": "488c7c39-0578-433f-b5fc-14094d606441",
   "metadata": {},
   "outputs": [
    {
     "name": "stdout",
     "output_type": "stream",
     "text": [
      "{'red', 'blue', 'purple'}\n"
     ]
    }
   ],
   "source": [
    "#difference update() -= Removes the items in this set that are also included in another specified set\n",
    "colours={'purple', 'black', 'red', 'blue'}\n",
    "cars={ 'Jagour','black','swift'}\n",
    "colours.difference_update(cars)\n",
    "print(colours)"
   ]
  },
  {
   "cell_type": "code",
   "execution_count": 12,
   "id": "3329ae18-02c3-4f38-92f4-5f231ac86d51",
   "metadata": {},
   "outputs": [
    {
     "name": "stdout",
     "output_type": "stream",
     "text": [
      "{'blue', 'purple', 'black'}\n"
     ]
    }
   ],
   "source": [
    "#Discard() - Removes the specified item from the set\n",
    "colours={'purple', 'black', 'red', 'blue'}\n",
    "colours.discard('red')\n",
    "print(colours)"
   ]
  },
  {
   "cell_type": "code",
   "execution_count": 14,
   "id": "ad3a6d8c-42fe-47f7-9e5d-da7e3619214d",
   "metadata": {},
   "outputs": [
    {
     "name": "stdout",
     "output_type": "stream",
     "text": [
      "{'black'}\n"
     ]
    }
   ],
   "source": [
    "#intersection() & - Returns a set that is the intersection of two other sets\n",
    "colours={'purple', 'black', 'red', 'blue'}\n",
    "cars={ 'Jagour','black','swift'}\n",
    "x=colours.intersection(cars)\n",
    "print(x)"
   ]
  },
  {
   "cell_type": "code",
   "execution_count": 15,
   "id": "8e1fff0d-55d4-4f22-9bb3-91e67c80ba2a",
   "metadata": {},
   "outputs": [
    {
     "name": "stdout",
     "output_type": "stream",
     "text": [
      "{'black'}\n"
     ]
    }
   ],
   "source": [
    "#intersection update() &= - Removes the items in the set that are not present in other specified sets\n",
    "colours={'purple', 'black', 'red', 'blue'}\n",
    "cars={ 'Jagour','black','swift'}\n",
    "colours.intersection_update(cars)\n",
    "print(colours)"
   ]
  },
  {
   "cell_type": "code",
   "execution_count": 16,
   "id": "186ee471-2540-4b0b-8543-8f0a132fcc26",
   "metadata": {},
   "outputs": [
    {
     "name": "stdout",
     "output_type": "stream",
     "text": [
      "True\n"
     ]
    }
   ],
   "source": [
    "#isdisjoint() - Returns whether two sets have a intersection or not\n",
    "colours={'purple', 'black', 'red', 'blue'}\n",
    "cars={ 'Jagour','bmw','swift'}\n",
    "x=colours.isdisjoint(cars)\n",
    "print(x)"
   ]
  },
  {
   "cell_type": "code",
   "execution_count": 17,
   "id": "d7719eee-616c-4ab1-9432-1d5b2c53b2d0",
   "metadata": {},
   "outputs": [
    {
     "name": "stdout",
     "output_type": "stream",
     "text": [
      "True\n"
     ]
    }
   ],
   "source": [
    "#issubset()<= - Returns whether another set contains this set or not\n",
    "#issubsest()< - returns whether all items in this set is present in other specified sets\n",
    "colours={'purple', 'black', 'red', 'blue','yellow','green'}\n",
    "x={ 'black', 'red' , 'blue'}\n",
    "x=colours.issubset(colours)\n",
    "print(x)"
   ]
  },
  {
   "cell_type": "code",
   "execution_count": 18,
   "id": "1daf5cca-f279-4c3a-b058-56356880f831",
   "metadata": {},
   "outputs": [
    {
     "name": "stdout",
     "output_type": "stream",
     "text": [
      "True\n"
     ]
    }
   ],
   "source": [
    "# issuperset() >= returns whether this set contains another set or not \n",
    "#issuperset() >  returns whether all items in other, specified set is present in this set\n",
    "x={ 4,6,5,2,3,7,6,8,5,8,9}\n",
    "y={ 4,6,5}\n",
    "z=x.issuperset(y)\n",
    "print(z)"
   ]
  },
  {
   "cell_type": "code",
   "execution_count": 19,
   "id": "22046a1f-a0f5-47cc-87e1-84dc14f242ab",
   "metadata": {},
   "outputs": [
    {
     "name": "stdout",
     "output_type": "stream",
     "text": [
      "{'blue', 'purple', 'black'}\n"
     ]
    }
   ],
   "source": [
    "#pop() - Removes an element from the set \n",
    "colours={'purple', 'black', 'red', 'blue'}\n",
    "colours.pop()\n",
    "print(colours)"
   ]
  },
  {
   "cell_type": "code",
   "execution_count": 20,
   "id": "00b5ca9a-dfe7-4c1a-835b-7699fd88dc09",
   "metadata": {},
   "outputs": [
    {
     "name": "stdout",
     "output_type": "stream",
     "text": [
      "{'red', 'blue', 'black'}\n"
     ]
    }
   ],
   "source": [
    "#Remove() - Remove th specified element\n",
    "colours={'purple', 'black', 'red', 'blue'}\n",
    "colours.remove('purple')\n",
    "print(colours)"
   ]
  },
  {
   "cell_type": "code",
   "execution_count": 21,
   "id": "9f9f6d32-0c9b-4bed-8334-6e51a9c6c1e0",
   "metadata": {},
   "outputs": [
    {
     "name": "stdout",
     "output_type": "stream",
     "text": [
      "{'Jagour', 'red', 'purple', 'swift', 'blue'}\n"
     ]
    }
   ],
   "source": [
    "#symmetric difference() ^ - Returns a set with symmetric difference of two sets\n",
    "colours={'purple', 'black', 'red', 'blue'}\n",
    "cars={ 'Jagour','black','swift'}\n",
    "x=colours.symmetric_difference(cars)\n",
    "print(x)"
   ]
  },
  {
   "cell_type": "code",
   "execution_count": 22,
   "id": "58cba1d2-6d08-4609-9f83-cb597cb7725b",
   "metadata": {},
   "outputs": [
    {
     "name": "stdout",
     "output_type": "stream",
     "text": [
      "{'Jagour', 'red', 'purple', 'swift', 'blue'}\n"
     ]
    }
   ],
   "source": [
    "#symmetric difference update() ^ - insert the symmetric differrences from this sets and another\n",
    "colours={'purple', 'black', 'red', 'blue'}\n",
    "cars={ 'Jagour','black','swift'}\n",
    "colours.symmetric_difference_update(cars)\n",
    "print(colours)"
   ]
  },
  {
   "cell_type": "code",
   "execution_count": 23,
   "id": "a2f211dc-688f-4842-958d-9d1f3858691e",
   "metadata": {},
   "outputs": [
    {
     "name": "stdout",
     "output_type": "stream",
     "text": [
      "{'Jagour', 'red', 'purple', 'black', 'swift', 'blue'}\n"
     ]
    }
   ],
   "source": [
    "#Union() | - Return a set containing the union of sets\n",
    "colours={'purple', 'black', 'red', 'blue'}\n",
    "cars={ 'Jagour','black','swift'}\n",
    "x=colours.union(cars)\n",
    "print(x)"
   ]
  },
  {
   "cell_type": "code",
   "execution_count": 24,
   "id": "24b67a74-adbe-414b-aa17-ad015fe81904",
   "metadata": {},
   "outputs": [
    {
     "name": "stdout",
     "output_type": "stream",
     "text": [
      "{'Jagour', 'red', 'purple', 'black', 'swift', 'blue'}\n"
     ]
    }
   ],
   "source": [
    "#update() |= Update the set with the union of this set and others\n",
    "colours={'purple', 'black', 'red', 'blue'}\n",
    "cars={ 'Jagour','black','swift'}\n",
    "colours.update(cars)\n",
    "print(colours)"
   ]
  },
  {
   "cell_type": "code",
   "execution_count": null,
   "id": "0b543177-95a7-499b-9986-fc124e62088e",
   "metadata": {},
   "outputs": [],
   "source": []
  }
 ],
 "metadata": {
  "kernelspec": {
   "display_name": "Python 3 (ipykernel)",
   "language": "python",
   "name": "python3"
  },
  "language_info": {
   "codemirror_mode": {
    "name": "ipython",
    "version": 3
   },
   "file_extension": ".py",
   "mimetype": "text/x-python",
   "name": "python",
   "nbconvert_exporter": "python",
   "pygments_lexer": "ipython3",
   "version": "3.11.7"
  }
 },
 "nbformat": 4,
 "nbformat_minor": 5
}
