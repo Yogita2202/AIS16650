{
 "cells": [
  {
   "cell_type": "code",
   "execution_count": null,
   "id": "4e7ee345-de70-4943-a6a8-662c55821eda",
   "metadata": {},
   "outputs": [],
   "source": [
    "# While loop"
   ]
  },
  {
   "cell_type": "code",
   "execution_count": 1,
   "id": "f56584db-67d2-41e4-ac24-71429ec565ed",
   "metadata": {},
   "outputs": [
    {
     "name": "stdout",
     "output_type": "stream",
     "text": [
      "1\n",
      "2\n",
      "3\n",
      "4\n",
      "5\n"
     ]
    }
   ],
   "source": [
    "#The while Loop\n",
    "#With the while loop we can execute a set of statements as long as a condition is true.\n",
    "#ExampleGet your own Python Server\n",
    "#Print i as long as i is less than 6:\n",
    "#1\n",
    "i = 1\n",
    "while i < 6:\n",
    "  print(i)\n",
    "  i += 1"
   ]
  },
  {
   "cell_type": "code",
   "execution_count": 2,
   "id": "894ddc4a-e02e-4538-829e-51cb91be7293",
   "metadata": {},
   "outputs": [
    {
     "name": "stdout",
     "output_type": "stream",
     "text": [
      "1\n",
      "2\n",
      "3\n"
     ]
    }
   ],
   "source": [
    "#The break Statement\n",
    "#With the break statement we can stop the loop even if the while condition is true:\n",
    "#Example\n",
    "#Exit the loop when i is 3:\n",
    "#2\n",
    "i = 1\n",
    "while i < 6:\n",
    "  print(i)\n",
    "  if i == 3:\n",
    "    break\n",
    "  i += 1"
   ]
  },
  {
   "cell_type": "code",
   "execution_count": 3,
   "id": "b8a6407c-5d01-4a1d-a071-6b5e9cb4a3d4",
   "metadata": {},
   "outputs": [
    {
     "name": "stdout",
     "output_type": "stream",
     "text": [
      "2\n",
      "4\n",
      "6\n",
      "8\n",
      "10\n"
     ]
    }
   ],
   "source": [
    "#3\n",
    "i = 2\n",
    "while i < 12:\n",
    "  print(i)\n",
    "  i += 2"
   ]
  },
  {
   "cell_type": "code",
   "execution_count": 4,
   "id": "b7d089c2-8b6c-4bf8-8f40-3b578c810f12",
   "metadata": {},
   "outputs": [
    {
     "name": "stdout",
     "output_type": "stream",
     "text": [
      "6\n",
      "10\n",
      "14\n",
      "i is no longer less than 14\n"
     ]
    }
   ],
   "source": [
    "#4\n",
    "i = 6\n",
    "while i < 18:\n",
    "  print(i)\n",
    "  i += 4\n",
    "else:\n",
    "  print(\"i is no longer less than 14\")"
   ]
  },
  {
   "cell_type": "code",
   "execution_count": 5,
   "id": "17124d81-adaa-457d-a95a-4e8f071c956a",
   "metadata": {},
   "outputs": [
    {
     "name": "stdout",
     "output_type": "stream",
     "text": [
      "8\n",
      "23\n",
      "38\n",
      "53\n",
      "i is no longer less than 55\n"
     ]
    }
   ],
   "source": [
    "#5\n",
    "i = 8\n",
    "while i < 56:\n",
    "  print(i)\n",
    "  i += 15\n",
    "else:\n",
    "  print(\"i is no longer less than 55\")"
   ]
  },
  {
   "cell_type": "code",
   "execution_count": 6,
   "id": "9c6136f1-752b-4855-bad1-8bf1639d101f",
   "metadata": {},
   "outputs": [
    {
     "name": "stdout",
     "output_type": "stream",
     "text": [
      "3\n",
      "8\n",
      "13\n",
      "18\n",
      "i is no longer less than 20\n"
     ]
    }
   ],
   "source": [
    "#6\n",
    "i = 3\n",
    "while i < 20:\n",
    "  print(i)\n",
    "  i += 5\n",
    "else:\n",
    "  print(\"i is no longer less than 20\")"
   ]
  },
  {
   "cell_type": "code",
   "execution_count": 7,
   "id": "96e0c884-d61e-4b9b-b751-93dc3c6ca2cc",
   "metadata": {},
   "outputs": [
    {
     "name": "stdout",
     "output_type": "stream",
     "text": [
      "1\n",
      "2\n",
      "3\n",
      "4\n",
      "5\n",
      "i is no longer less than 6\n"
     ]
    }
   ],
   "source": [
    "#7\n",
    "#The else Statement\n",
    "#With the else statement we can run a block of code once when the condition no longer is true:\n",
    "i = 1\n",
    "while i < 6:\n",
    "  print(i)\n",
    "  i += 1\n",
    "else:\n",
    "  print(\"i is no longer less than 6\")"
   ]
  },
  {
   "cell_type": "code",
   "execution_count": 8,
   "id": "fcb6f179-d5c5-4c29-8c1f-86aa27e536fd",
   "metadata": {},
   "outputs": [
    {
     "name": "stdout",
     "output_type": "stream",
     "text": [
      "8\n",
      "18\n",
      "28\n",
      "38\n",
      "48\n"
     ]
    }
   ],
   "source": [
    "#8\n",
    "i = 8\n",
    "while i < 56:\n",
    "  print(i)\n",
    "  if i == 40:\n",
    "    break\n",
    "  i += 10"
   ]
  },
  {
   "cell_type": "code",
   "execution_count": 9,
   "id": "8f826b7d-f551-43ef-ba8f-64f00d96cb16",
   "metadata": {},
   "outputs": [
    {
     "name": "stdout",
     "output_type": "stream",
     "text": [
      "4\n",
      "6\n",
      "8\n",
      "10\n",
      "12\n",
      "14\n",
      "16\n"
     ]
    }
   ],
   "source": [
    "#9\n",
    "i = 4\n",
    "while i < 24:\n",
    "  print(i)\n",
    "  if i == 16:\n",
    "    break\n",
    "  i += 2"
   ]
  },
  {
   "cell_type": "code",
   "execution_count": 10,
   "id": "d5d5f76d-55a9-4578-b7f6-67bec2f48ad0",
   "metadata": {},
   "outputs": [
    {
     "name": "stdout",
     "output_type": "stream",
     "text": [
      "5\n",
      "8\n",
      "11\n",
      "14\n",
      "17\n",
      "20\n",
      "23\n"
     ]
    }
   ],
   "source": [
    "#10\n",
    "i = 5\n",
    "while i < 25:\n",
    "  print(i)\n",
    "  i += 3"
   ]
  },
  {
   "cell_type": "code",
   "execution_count": null,
   "id": "23628122-67e8-42c9-8e6c-b872a4778e53",
   "metadata": {},
   "outputs": [],
   "source": []
  }
 ],
 "metadata": {
  "kernelspec": {
   "display_name": "Python 3 (ipykernel)",
   "language": "python",
   "name": "python3"
  },
  "language_info": {
   "codemirror_mode": {
    "name": "ipython",
    "version": 3
   },
   "file_extension": ".py",
   "mimetype": "text/x-python",
   "name": "python",
   "nbconvert_exporter": "python",
   "pygments_lexer": "ipython3",
   "version": "3.11.7"
  }
 },
 "nbformat": 4,
 "nbformat_minor": 5
}
