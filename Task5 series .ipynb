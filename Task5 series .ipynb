{
 "cells": [
  {
   "cell_type": "code",
   "execution_count": 1,
   "id": "64d31671-bcdc-4638-a570-d5a5d0c01d40",
   "metadata": {},
   "outputs": [],
   "source": [
    "#Pandas is a powerful and flexible open-source data analysis and manipulation library for the Python programming language. \n",
    "#It provides data structures and functions needed to work with structured data seamlessly, making it a popular choice among data scientists and analysts. \n",
    "#Here are the key aspects and functionalities of the pandas library\n"
   ]
  },
  {
   "cell_type": "code",
   "execution_count": null,
   "id": "e9735710-54e8-402c-bd14-7ec0da4e5be0",
   "metadata": {},
   "outputs": [],
   "source": [
    "import pandas as "
   ]
  }
 ],
 "metadata": {
  "kernelspec": {
   "display_name": "Python 3 (ipykernel)",
   "language": "python",
   "name": "python3"
  },
  "language_info": {
   "codemirror_mode": {
    "name": "ipython",
    "version": 3
   },
   "file_extension": ".py",
   "mimetype": "text/x-python",
   "name": "python",
   "nbconvert_exporter": "python",
   "pygments_lexer": "ipython3",
   "version": "3.11.7"
  }
 },
 "nbformat": 4,
 "nbformat_minor": 5
}
