{
 "cells": [
  {
   "cell_type": "code",
   "execution_count": 1,
   "id": "77c2180a-33ed-4b96-bd28-9615150bb5bb",
   "metadata": {},
   "outputs": [],
   "source": [
    "#Mean\n",
    "\n",
    "#The mean is usually referred to as 'the average'.\n",
    "\n",
    "#The mean is the sum of all the values in the data divided by the total number of values in the data.\n",
    "\n",
    "#The mean is calculated for numerical variables. A variable is something in the data that can vary, like:Age,Height,Income."
   ]
  },
  {
   "cell_type": "code",
   "execution_count": 2,
   "id": "454f415f-7f92-4639-9938-51b93069628d",
   "metadata": {},
   "outputs": [
    {
     "name": "stdout",
     "output_type": "stream",
     "text": [
      "18.75\n"
     ]
    }
   ],
   "source": [
    "#Example\n",
    "#With Python use the NumPy library mean() method to find the mean of the values 12,25,17,21.\n",
    "\n",
    "import numpy\n",
    "\n",
    "values = [12,25,17,21]\n",
    "\n",
    "x = numpy.mean(values)\n",
    "\n",
    "print(x)"
   ]
  },
  {
   "cell_type": "code",
   "execution_count": 3,
   "id": "f2d37be9-58d0-4977-85b6-1bb14a6020f6",
   "metadata": {},
   "outputs": [],
   "source": [
    "# Median\n",
    "#The median is a type of average value, which describes where the center of the data is located.\n",
    "#The median is the middle value in a data set ordered from low to high."
   ]
  },
  {
   "cell_type": "code",
   "execution_count": 4,
   "id": "4b1f6a0b-e205-4fd6-81f0-afef85aa7c5f",
   "metadata": {},
   "outputs": [
    {
     "name": "stdout",
     "output_type": "stream",
     "text": [
      "25.0\n"
     ]
    }
   ],
   "source": [
    "#Example2\n",
    "#With Python use the NumPy library median() method to find the median of the values 14,25,32,45,62,12,22:\n",
    "\n",
    "import numpy\n",
    "\n",
    "values = [14,25,32,45,62,12,22]\n",
    "\n",
    "x = numpy.median(values)\n",
    "\n",
    "print(x)"
   ]
  },
  {
   "cell_type": "code",
   "execution_count": 5,
   "id": "4c96cb11-2020-4157-a44b-9033fc7aa416",
   "metadata": {},
   "outputs": [],
   "source": [
    "#Mode\n",
    "#The mode is the value(s) that are the most common in the data.\n",
    "\n",
    "#A dataset can have multiple values that are modes.\n",
    "\n",
    "#A distribution of values with only one mode is called unimodal.\n",
    "\n",
    "#A distribution of values with two modes is called bimodal. In general, a distribution with more than one mode is called multimodal.\n",
    "\n",
    "#Mode can be found for both categorical and numerical data."
   ]
  },
  {
   "cell_type": "code",
   "execution_count": 6,
   "id": "700323bf-5cf9-4669-b66a-b8a49c26b6a4",
   "metadata": {},
   "outputs": [
    {
     "name": "stdout",
     "output_type": "stream",
     "text": [
      "[7, 12]\n"
     ]
    }
   ],
   "source": [
    "#Example3\n",
    "#With Python use the statistics library multimode() method to find the modes of the values 4,7,3,8,11,7,10,19,6,9,12,12:\n",
    "\n",
    "from statistics import multimode\n",
    "\n",
    "values = [4,7,3,8,11,7,10,19,6,9,12,12]\n",
    "\n",
    "x = multimode(values)\n",
    "\n",
    "print(x)"
   ]
  },
  {
   "cell_type": "code",
   "execution_count": 7,
   "id": "faeaab1a-f173-4015-b586-44b67db8cdb7",
   "metadata": {},
   "outputs": [],
   "source": [
    "\n",
    "#The range is a measure of variation, which describes how spread out the data is.\n",
    "\n",
    "#The range is the difference between the smallest and the largest value of the data.\n",
    "\n",
    "#Range is the simplest measure of variation."
   ]
  },
  {
   "cell_type": "code",
   "execution_count": 8,
   "id": "82c7232d-5b0c-40ad-ad8f-b08f4a200925",
   "metadata": {},
   "outputs": [
    {
     "name": "stdout",
     "output_type": "stream",
     "text": [
      "44\n"
     ]
    }
   ],
   "source": [
    "#Example4\n",
    "#With Python use the NumPy library ptp() method to find the range of the values 13, 21, 21, 40, 48, 55, 57:\n",
    "\n",
    "import numpy\n",
    "\n",
    "values = [13,21,21,40,48,55,57]\n",
    "\n",
    "x = numpy.ptp(values)\n",
    "\n",
    "print(x)"
   ]
  },
  {
   "cell_type": "code",
   "execution_count": 9,
   "id": "f740c410-ae5e-4228-8387-8a4b56afb167",
   "metadata": {},
   "outputs": [],
   "source": [
    "#Quartiles\n",
    "\n",
    "#Quartiles are values that separate the data into four equal parts.\n",
    "\n",
    "#Quartiles and percentiles are measures of variation, which describes how spread out the data is.\n",
    "\n",
    "#Quartiles and percentiles are both types of quantiles."
   ]
  },
  {
   "cell_type": "code",
   "execution_count": 10,
   "id": "939da9af-0f0d-4f48-bf7a-02ce6b8a725c",
   "metadata": {},
   "outputs": [
    {
     "name": "stdout",
     "output_type": "stream",
     "text": [
      "[14.  29.  43.  46.5 54. ]\n"
     ]
    }
   ],
   "source": [
    "#Example5\n",
    "#With Python use the NumPy library percentile() method to find the 65th percentile of the values 14,25,54,45,41,47:\n",
    "\n",
    "import numpy\n",
    "\n",
    "values = [14,25,54,45,41,47]\n",
    "\n",
    "x = numpy.quantile(values, [0,0.25,0.5,0.75,1])\n",
    "\n",
    "print(x)"
   ]
  },
  {
   "cell_type": "code",
   "execution_count": 11,
   "id": "dc8e0a58-4567-4faa-8ba5-80c6b3780351",
   "metadata": {},
   "outputs": [],
   "source": [
    "#Percentiles\n",
    "#Percentiles are values that separate the data into 100 equal parts."
   ]
  },
  {
   "cell_type": "code",
   "execution_count": 12,
   "id": "1278fee4-a42f-424d-b6cd-56dc4d4c52bc",
   "metadata": {},
   "outputs": [
    {
     "name": "stdout",
     "output_type": "stream",
     "text": [
      "19.12\n"
     ]
    }
   ],
   "source": [
    "#Example6\n",
    "#With Python use the NumPy library percentile() method to find the 65th percentile of the values 12,15,19,25,22,20,9:\n",
    "\n",
    "import numpy\n",
    "\n",
    "values = [12,15,19,25,22,20,9]\n",
    "\n",
    "x = numpy.percentile(values, 52)\n",
    "\n",
    "print(x)"
   ]
  },
  {
   "cell_type": "code",
   "execution_count": 13,
   "id": "7dbae40f-722f-46d8-a1de-f9f63cc68fc5",
   "metadata": {},
   "outputs": [],
   "source": [
    "#Interquartile Range\n",
    "\n",
    "#Interquartile range is the difference between the first and third quartiles (Q1 and Q3).\n",
    "\n",
    "#The 'middle half' of the data is between the first and third quartile."
   ]
  },
  {
   "cell_type": "code",
   "execution_count": 14,
   "id": "1f9266c1-17cb-48c8-bdf1-361b19adc055",
   "metadata": {},
   "outputs": [
    {
     "name": "stdout",
     "output_type": "stream",
     "text": [
      "28.75\n"
     ]
    }
   ],
   "source": [
    "#Example7\n",
    "#With Python use the SciPy library iqr() method to find the interquartile range of the values 13, 21, 21, 40, 42, 48, 55, 72:\n",
    "\n",
    "from scipy import stats\n",
    "\n",
    "values = [13,21,21,40,42,48,55,72]\n",
    "\n",
    "x = stats.iqr(values)\n",
    "\n",
    "print(x)"
   ]
  },
  {
   "cell_type": "code",
   "execution_count": 15,
   "id": "b8919cc1-a271-425c-b67e-cff0c14dc9c3",
   "metadata": {},
   "outputs": [],
   "source": [
    "#Average\n",
    "\n",
    "#An average is a measure of where most of the values in the data are located.\n",
    "\n",
    "#The center of the data is where most of the values in the data are located. Averages are measures of the location of the center.\n",
    "\n",
    "#There are different types of averages. The most commonly used are:Mean,Median,Mode.\n",
    "#Standard Deviation\n",
    "\n",
    "#Standard deviation (σ) measures how far a 'typical' observation is from the average of the data (μ).\n",
    "\n",
    "#Standard deviation is important for many statistical methods."
   ]
  },
  {
   "cell_type": "code",
   "execution_count": 16,
   "id": "79ab5558-9494-4b61-94e1-9eb6b8b7081a",
   "metadata": {},
   "outputs": [
    {
     "name": "stdout",
     "output_type": "stream",
     "text": [
      "3.8078865529319543\n"
     ]
    }
   ],
   "source": [
    "#Population Standard Deviation\n",
    "\n",
    "#Example8\n",
    "#With Python use the NumPy library std() method to find the standard deviation of the values 4,11,7,14:\n",
    "\n",
    "import numpy\n",
    "\n",
    "values = [4,11,7,14]\n",
    "\n",
    "x = numpy.std(values)\n",
    "\n",
    "print(x)"
   ]
  },
  {
   "cell_type": "code",
   "execution_count": 17,
   "id": "a5c60c09-9086-4b5f-8b62-1aa874644f6b",
   "metadata": {},
   "outputs": [
    {
     "name": "stdout",
     "output_type": "stream",
     "text": [
      "4.396968652757639\n"
     ]
    }
   ],
   "source": [
    "#Sample Standard Deviation\n",
    "#Example9\n",
    "#With Python use the NumPy library std() method to find the sample standard deviation of the values 4,11,7,14:\n",
    "\n",
    "import numpy\n",
    "\n",
    "values = [4,11,7,14]\n",
    "\n",
    "x = numpy.std(values, ddof=1)\n",
    "\n",
    "print(x)"
   ]
  },
  {
   "cell_type": "code",
   "execution_count": null,
   "id": "692b1aec-bdaa-4844-b4be-efbe76aaf838",
   "metadata": {},
   "outputs": [],
   "source": []
  }
 ],
 "metadata": {
  "kernelspec": {
   "display_name": "Python 3 (ipykernel)",
   "language": "python",
   "name": "python3"
  },
  "language_info": {
   "codemirror_mode": {
    "name": "ipython",
    "version": 3
   },
   "file_extension": ".py",
   "mimetype": "text/x-python",
   "name": "python",
   "nbconvert_exporter": "python",
   "pygments_lexer": "ipython3",
   "version": "3.11.7"
  }
 },
 "nbformat": 4,
 "nbformat_minor": 5
}
