{
 "cells": [
  {
   "cell_type": "code",
   "execution_count": null,
   "id": "bea374d8-56c8-4a98-a97b-49b5ceb7a8d7",
   "metadata": {},
   "outputs": [],
   "source": [
    "# If statements \n",
    "#Equals  : a==b\n",
    "#Not Equals : a!=b\n",
    "#Less than : a<b\n",
    "#Less than or equal to : a <= b\n",
    "#greater than : a > b\n",
    "#greater than or equal to : a >= b"
   ]
  },
  {
   "cell_type": "code",
   "execution_count": 3,
   "id": "ce2be95a-153f-492f-85c4-d253861f0d31",
   "metadata": {},
   "outputs": [
    {
     "name": "stdout",
     "output_type": "stream",
     "text": [
      " b is greater than a \n"
     ]
    }
   ],
   "source": [
    "a=30\n",
    "b=50\n",
    "if b > a:\n",
    "   print(\" b is greater than a \")"
   ]
  },
  {
   "cell_type": "code",
   "execution_count": 8,
   "id": "4f0d20b8-e8f0-4be7-b46b-14e9f1605ae2",
   "metadata": {},
   "outputs": [
    {
     "name": "stdout",
     "output_type": "stream",
     "text": [
      " x and y equal\n"
     ]
    }
   ],
   "source": [
    "x=\"pink\"\n",
    "y=\"pink\"\n",
    "if x == y :\n",
    "   print ( \" x and y equal\")"
   ]
  },
  {
   "cell_type": "code",
   "execution_count": 10,
   "id": "dfc193f8-c0a8-4ce3-803e-231168277ce2",
   "metadata": {},
   "outputs": [
    {
     "name": "stdout",
     "output_type": "stream",
     "text": [
      " a and b are not equal\n"
     ]
    }
   ],
   "source": [
    "a=100\n",
    "b=10\n",
    "if a != b :\n",
    "    print( \" a and b are not equal\")"
   ]
  },
  {
   "cell_type": "code",
   "execution_count": 11,
   "id": "e3ae2a21-139a-49cb-8d30-26855e76d3d6",
   "metadata": {},
   "outputs": [
    {
     "name": "stdout",
     "output_type": "stream",
     "text": [
      " a is less than b \n"
     ]
    }
   ],
   "source": [
    "a=40\n",
    "b=234 \n",
    "if a < b :\n",
    "    print(\" a is less than b \")"
   ]
  },
  {
   "cell_type": "code",
   "execution_count": 12,
   "id": "d7ec78c2-fec8-4a6d-a459-537f3a30533f",
   "metadata": {},
   "outputs": [
    {
     "name": "stdout",
     "output_type": "stream",
     "text": [
      "a is less than or qual to b\n"
     ]
    }
   ],
   "source": [
    "a=34\n",
    "b=34\n",
    "if a <= b :\n",
    "    print(\"a is less than or qual to b\")"
   ]
  },
  {
   "cell_type": "code",
   "execution_count": 15,
   "id": "6638d19c-6072-4781-827d-6f5f1424e2eb",
   "metadata": {},
   "outputs": [
    {
     "name": "stdout",
     "output_type": "stream",
     "text": [
      " b is greater than or equal to  a\n"
     ]
    }
   ],
   "source": [
    "a=300\n",
    "b=300\n",
    "if a >= b :\n",
    "    print(\" b is greater than or equal to  a\")"
   ]
  },
  {
   "cell_type": "code",
   "execution_count": 17,
   "id": "86c130a2-d79b-4f10-b7b2-c13b0211456f",
   "metadata": {},
   "outputs": [
    {
     "name": "stdout",
     "output_type": "stream",
     "text": [
      "both are not equal\n"
     ]
    }
   ],
   "source": [
    "x=\"rank1\"\n",
    "y=\"rank2\"\n",
    "if x!= y :\n",
    "    print (\"both are not equal\")"
   ]
  },
  {
   "cell_type": "code",
   "execution_count": 20,
   "id": "b22bece3-9e86-432b-b75b-4ca2b2e27e08",
   "metadata": {},
   "outputs": [
    {
     "name": "stdout",
     "output_type": "stream",
     "text": [
      " y is smaller \n"
     ]
    }
   ],
   "source": [
    "x=50\n",
    "y=20\n",
    "if x > y :\n",
    "    print(\" y is smaller \")"
   ]
  },
  {
   "cell_type": "code",
   "execution_count": 21,
   "id": "552c46b3-fa0e-473c-b16c-3b29b38a3760",
   "metadata": {},
   "outputs": [
    {
     "name": "stdout",
     "output_type": "stream",
     "text": [
      "both are equal\n"
     ]
    }
   ],
   "source": [
    "a=23\n",
    "b=23\n",
    "if a == b :\n",
    "    print(\"both are equal\")"
   ]
  },
  {
   "cell_type": "code",
   "execution_count": 1,
   "id": "328c1217-2cc4-4795-a5a0-46a599dcf990",
   "metadata": {},
   "outputs": [
    {
     "name": "stdout",
     "output_type": "stream",
     "text": [
      " a is grater than b\n"
     ]
    }
   ],
   "source": [
    "a=43\n",
    "b=34\n",
    "if a >= b :\n",
    "    print(\" a is grater than b\")"
   ]
  },
  {
   "cell_type": "code",
   "execution_count": null,
   "id": "1b8efa51-e62f-44f0-b435-e627b9666fea",
   "metadata": {},
   "outputs": [],
   "source": [
    "\n"
   ]
  }
 ],
 "metadata": {
  "kernelspec": {
   "display_name": "Python 3 (ipykernel)",
   "language": "python",
   "name": "python3"
  },
  "language_info": {
   "codemirror_mode": {
    "name": "ipython",
    "version": 3
   },
   "file_extension": ".py",
   "mimetype": "text/x-python",
   "name": "python",
   "nbconvert_exporter": "python",
   "pygments_lexer": "ipython3",
   "version": "3.11.7"
  }
 },
 "nbformat": 4,
 "nbformat_minor": 5
}
