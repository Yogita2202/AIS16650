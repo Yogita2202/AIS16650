{
 "cells": [
  {
   "cell_type": "code",
   "execution_count": null,
   "id": "5c7d8371-d9e6-41b8-89ad-f49e35140b51",
   "metadata": {},
   "outputs": [],
   "source": [
    "# Elif Conditions "
   ]
  },
  {
   "cell_type": "code",
   "execution_count": 1,
   "id": "94c0bd5f-76b8-4610-9bbe-c6a33a4b7d14",
   "metadata": {},
   "outputs": [
    {
     "name": "stdout",
     "output_type": "stream",
     "text": [
      "both are equal\n"
     ]
    }
   ],
   "source": [
    "a=43\n",
    "b=43\n",
    "if a == b :\n",
    "    print(\"both are equal\")\n",
    "elif a > b :\n",
    "    print(\" both are unequal\")"
   ]
  },
  {
   "cell_type": "code",
   "execution_count": 2,
   "id": "7e6f3d8e-bef8-42da-9576-b942c14923e3",
   "metadata": {},
   "outputs": [
    {
     "name": "stdout",
     "output_type": "stream",
     "text": [
      " a is smaller than b\n"
     ]
    }
   ],
   "source": [
    "a=12\n",
    "b=21\n",
    "if a == b :\n",
    "    print(\" a is same as b\")\n",
    "elif a < b :\n",
    "    print(\" a is smaller than b\")"
   ]
  },
  {
   "cell_type": "code",
   "execution_count": 3,
   "id": "1a4f0fa8-7dbb-4c67-bda7-ffeccce55b97",
   "metadata": {},
   "outputs": [
    {
     "name": "stdout",
     "output_type": "stream",
     "text": [
      " b is smaller than a \n"
     ]
    }
   ],
   "source": [
    "a=57\n",
    "b=34\n",
    "if a < b :\n",
    "    print(\" a is greater than b \")\n",
    "elif a > b :\n",
    "    print(\" b is smaller than a \")"
   ]
  },
  {
   "cell_type": "code",
   "execution_count": 4,
   "id": "89547b61-b4b3-4311-b11c-df5fdd764bf7",
   "metadata": {},
   "outputs": [
    {
     "name": "stdout",
     "output_type": "stream",
     "text": [
      " a is greater than b \n"
     ]
    }
   ],
   "source": [
    "a=56\n",
    "b=23\n",
    "if a <= b :\n",
    "    print(\" a is greater than b \" )\n",
    "elif a > b :\n",
    "    print(\" a is greater than b \")"
   ]
  },
  {
   "cell_type": "code",
   "execution_count": 5,
   "id": "0818408d-e5da-4ceb-aaeb-e1b59995dc3a",
   "metadata": {},
   "outputs": [
    {
     "name": "stdout",
     "output_type": "stream",
     "text": [
      "b is greater than a \n"
     ]
    }
   ],
   "source": [
    "a=23\n",
    "b=67\n",
    "if a >= b :\n",
    "    print(\" a is smaller than b\")\n",
    "elif a < b :\n",
    "    print(\"b is greater than a \")"
   ]
  },
  {
   "cell_type": "code",
   "execution_count": 6,
   "id": "97e23f56-21fe-43a4-b729-2ed9d0052379",
   "metadata": {},
   "outputs": [
    {
     "name": "stdout",
     "output_type": "stream",
     "text": [
      " y is greater than x\n"
     ]
    }
   ],
   "source": [
    "x=300\n",
    "y=600\n",
    "if x > y :\n",
    "    print(\" x is smaller than y\")\n",
    "elif x < y :\n",
    "    print(\" y is greater than x\")"
   ]
  },
  {
   "cell_type": "code",
   "execution_count": 8,
   "id": "eca4aabf-0d22-462a-92c9-b945bd5fda27",
   "metadata": {},
   "outputs": [
    {
     "name": "stdout",
     "output_type": "stream",
     "text": [
      " both are equal\n"
     ]
    }
   ],
   "source": [
    "a=34\n",
    "b=34\n",
    "if a != b :\n",
    "    print(\" both are unequal\")\n",
    "elif a == b :\n",
    "    print(\" both are equal\")"
   ]
  },
  {
   "cell_type": "code",
   "execution_count": 9,
   "id": "9a46697f-cca4-4ccd-98de-8b01f130a01e",
   "metadata": {},
   "outputs": [
    {
     "name": "stdout",
     "output_type": "stream",
     "text": [
      " a is smaller than b\n"
     ]
    }
   ],
   "source": [
    "a=78\n",
    "b=87\n",
    "if a < b :\n",
    "    print(\" a is smaller than b\")\n",
    "elif a > b :\n",
    "    print(\" b is greater than a \")"
   ]
  },
  {
   "cell_type": "code",
   "execution_count": 10,
   "id": "af454406-e1e8-4f5c-85c0-b4a8c167abf0",
   "metadata": {},
   "outputs": [
    {
     "name": "stdout",
     "output_type": "stream",
     "text": [
      " a is greater than b\n"
     ]
    }
   ],
   "source": [
    "a=90\n",
    "b=23\n",
    "if a < b :\n",
    "    print(\" b is greater than a \")\n",
    "elif a > b :\n",
    "    print(\" a is greater than b\")"
   ]
  },
  {
   "cell_type": "code",
   "execution_count": 11,
   "id": "8e05138f-7023-425d-8bd9-4775512ea1b9",
   "metadata": {},
   "outputs": [
    {
     "name": "stdout",
     "output_type": "stream",
     "text": [
      " a is not equal to b\n"
     ]
    }
   ],
   "source": [
    "a=34\n",
    "a=54\n",
    "if a != b :\n",
    "    print(\" a is not equal to b\")\n",
    "elif a == b :\n",
    "    print(\" a is same as b \")"
   ]
  },
  {
   "cell_type": "code",
   "execution_count": null,
   "id": "44bb876d-d730-42f2-9b8d-fd0ba807e5af",
   "metadata": {},
   "outputs": [],
   "source": []
  }
 ],
 "metadata": {
  "kernelspec": {
   "display_name": "Python 3 (ipykernel)",
   "language": "python",
   "name": "python3"
  },
  "language_info": {
   "codemirror_mode": {
    "name": "ipython",
    "version": 3
   },
   "file_extension": ".py",
   "mimetype": "text/x-python",
   "name": "python",
   "nbconvert_exporter": "python",
   "pygments_lexer": "ipython3",
   "version": "3.11.7"
  }
 },
 "nbformat": 4,
 "nbformat_minor": 5
}
