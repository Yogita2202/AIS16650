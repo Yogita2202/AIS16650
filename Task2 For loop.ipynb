{
 "cells": [
  {
   "cell_type": "code",
   "execution_count": null,
   "id": "dcce9f23-808b-481e-b855-378c66829305",
   "metadata": {},
   "outputs": [],
   "source": [
    "# For loop "
   ]
  },
  {
   "cell_type": "code",
   "execution_count": 4,
   "id": "256b51b9-068d-469d-ae39-921627bcd1e2",
   "metadata": {},
   "outputs": [
    {
     "name": "stdout",
     "output_type": "stream",
     "text": [
      "Red\n",
      "Blue\n"
     ]
    }
   ],
   "source": [
    "colours= ['Red', 'Blue', 'Black','purple']\n",
    "for x in colours :\n",
    "    if x == \"Black\" :\n",
    "        break\n",
    "    print(x)"
   ]
  },
  {
   "cell_type": "code",
   "execution_count": 5,
   "id": "7404d89e-1717-4873-b9f1-af51af97ce36",
   "metadata": {},
   "outputs": [
    {
     "name": "stdout",
     "output_type": "stream",
     "text": [
      "B\n",
      "l\n",
      "a\n",
      "c\n",
      "k\n"
     ]
    }
   ],
   "source": [
    "for x in \"Black\" :\n",
    "    print(x)\n",
    " "
   ]
  },
  {
   "cell_type": "code",
   "execution_count": 9,
   "id": "a6c70d66-1bb6-4af3-ad0c-ec387c3076b0",
   "metadata": {},
   "outputs": [
    {
     "name": "stdout",
     "output_type": "stream",
     "text": [
      "Red\n"
     ]
    }
   ],
   "source": [
    "colours= ['Red', 'Blue', 'Black','purple']\n",
    "for x in colours :\n",
    "    if x == \"Blue\" :\n",
    "        break\n",
    "    print(x)"
   ]
  },
  {
   "cell_type": "code",
   "execution_count": 10,
   "id": "be15410f-4ff8-4110-9241-00ce2292b881",
   "metadata": {},
   "outputs": [
    {
     "name": "stdout",
     "output_type": "stream",
     "text": [
      "Red\n",
      "Blue\n",
      "Black\n"
     ]
    }
   ],
   "source": [
    "colours=['Red','Blue','Black']\n",
    "for x in colours :\n",
    "    print(x)"
   ]
  },
  {
   "cell_type": "code",
   "execution_count": 13,
   "id": "4d10c26a-a1e8-4982-bddb-03160a9b4585",
   "metadata": {},
   "outputs": [
    {
     "name": "stdout",
     "output_type": "stream",
     "text": [
      "yogita\n",
      "apurva\n",
      "maithili\n"
     ]
    }
   ],
   "source": [
    "names=['yogita', 'apurva' ,'maithili']\n",
    "for x in names :\n",
    "    if x == \" apurva \" :\n",
    "        break\n",
    "    print(x)\n"
   ]
  },
  {
   "cell_type": "code",
   "execution_count": 14,
   "id": "c367e3d7-d819-4eac-a2cb-8d84818d086c",
   "metadata": {},
   "outputs": [
    {
     "name": "stdout",
     "output_type": "stream",
     "text": [
      "f\n",
      "r\n",
      "i\n",
      "e\n",
      "n\n",
      "d\n",
      "s\n"
     ]
    }
   ],
   "source": [
    "for x in 'friends' :\n",
    "    print(x)"
   ]
  },
  {
   "cell_type": "code",
   "execution_count": 15,
   "id": "f8999692-e02b-45ab-9f5a-143abfbe2113",
   "metadata": {},
   "outputs": [
    {
     "name": "stdout",
     "output_type": "stream",
     "text": [
      "bmw\n",
      "jagour\n"
     ]
    }
   ],
   "source": [
    "cars=['bmw','jagour', 'swift']\n",
    "for x in cars :\n",
    "    if x == 'swift' :\n",
    "        break\n",
    "    print(x)"
   ]
  },
  {
   "cell_type": "code",
   "execution_count": 16,
   "id": "847ed345-dd96-44ab-afc7-146fc4de7f50",
   "metadata": {},
   "outputs": [
    {
     "name": "stdout",
     "output_type": "stream",
     "text": [
      "bmw\n",
      "jagour\n",
      "swift\n"
     ]
    }
   ],
   "source": [
    "cars=['bmw','jagour','swift']\n",
    "for x in cars :\n",
    "    print(x)"
   ]
  },
  {
   "cell_type": "code",
   "execution_count": 17,
   "id": "1382be1c-e794-4b84-a876-61e4a769f36d",
   "metadata": {},
   "outputs": [
    {
     "name": "stdout",
     "output_type": "stream",
     "text": [
      "R\n",
      "e\n",
      "d\n",
      "m\n",
      "i\n"
     ]
    }
   ],
   "source": [
    "for x in \"Redmi\" :\n",
    "    print(x)"
   ]
  },
  {
   "cell_type": "code",
   "execution_count": 18,
   "id": "2c42010b-bc04-4f41-ada2-6cf24762d8f6",
   "metadata": {},
   "outputs": [
    {
     "name": "stdout",
     "output_type": "stream",
     "text": [
      "q\n",
      "u\n",
      "e\n",
      "e\n",
      "n\n"
     ]
    }
   ],
   "source": [
    "for x in \"queen\" :\n",
    "    print(x)"
   ]
  },
  {
   "cell_type": "code",
   "execution_count": null,
   "id": "198618cd-6310-4e8e-a5f5-4feab4458d7a",
   "metadata": {},
   "outputs": [],
   "source": []
  }
 ],
 "metadata": {
  "kernelspec": {
   "display_name": "Python 3 (ipykernel)",
   "language": "python",
   "name": "python3"
  },
  "language_info": {
   "codemirror_mode": {
    "name": "ipython",
    "version": 3
   },
   "file_extension": ".py",
   "mimetype": "text/x-python",
   "name": "python",
   "nbconvert_exporter": "python",
   "pygments_lexer": "ipython3",
   "version": "3.11.7"
  }
 },
 "nbformat": 4,
 "nbformat_minor": 5
}
