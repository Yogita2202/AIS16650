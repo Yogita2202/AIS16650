{
 "cells": [
  {
   "cell_type": "code",
   "execution_count": 3,
   "id": "dff15ef9-aa2d-4129-8bcd-918f136b5c9e",
   "metadata": {},
   "outputs": [
    {
     "name": "stdout",
     "output_type": "stream",
     "text": [
      "['Purple', 'Red', 'Blue', ' Yellow ']\n"
     ]
    }
   ],
   "source": [
    "# List and Methods\n",
    "# append() - Adds an element at the end of the list\n",
    "Colours = [ \"Purple\" , \"Red\" , \"Blue\"]\n",
    "Colours.append(\" Yellow \")\n",
    "print(Colours)"
   ]
  },
  {
   "cell_type": "code",
   "execution_count": 7,
   "id": "ee0b30f5-7cc8-4820-9dea-951cd70e075e",
   "metadata": {},
   "outputs": [
    {
     "name": "stdout",
     "output_type": "stream",
     "text": [
      "[]\n"
     ]
    }
   ],
   "source": [
    "# Clear() - Removes all the elements from the list\n",
    "Colours =[ 'Purple', 'Red', 'Blue' , 'Yellow' ]\n",
    "Colours.clear()\n",
    "print(Colours)"
   ]
  },
  {
   "cell_type": "code",
   "execution_count": 9,
   "id": "7dabe260-d0d7-461e-9b85-1b02b33d7d5b",
   "metadata": {},
   "outputs": [
    {
     "name": "stdout",
     "output_type": "stream",
     "text": [
      "['Purple', 'Red', 'Blue', 'Yellow']\n"
     ]
    }
   ],
   "source": [
    "# Copy() - Returns a copy of the list\n",
    "Colours= ['Purple', 'Red' , 'Blue', 'Yellow' ]\n",
    "x= Colours.copy()\n",
    "print(x)\n"
   ]
  },
  {
   "cell_type": "code",
   "execution_count": 10,
   "id": "2313bcad-f60d-4e6f-b300-76ff99c2df3d",
   "metadata": {},
   "outputs": [
    {
     "name": "stdout",
     "output_type": "stream",
     "text": [
      "4\n"
     ]
    }
   ],
   "source": [
    "#count() - Returns the number of elements with the specified value\n",
    "No= [ 1, 5, 5, 5, 6, 7, 3, 5, 6]\n",
    "x=No.count(5)\n",
    "print(x)"
   ]
  },
  {
   "cell_type": "code",
   "execution_count": 11,
   "id": "ed3944df-f93f-455a-98ab-3bec7377a568",
   "metadata": {},
   "outputs": [
    {
     "name": "stdout",
     "output_type": "stream",
     "text": [
      "['Yogita', 'Apurva', 'Maithili', 'Arya', 1, 2, 3, 4]\n"
     ]
    }
   ],
   "source": [
    "#extend() - Add the elements of a list ( or any iterable) to the end of current list\n",
    "Girls= [ 'Yogita', 'Apurva' , 'Maithili', 'Arya']\n",
    "Ranks = [ 1, 2, 3, 4]\n",
    "Girls.extend(Ranks)\n",
    "print(Girls)"
   ]
  },
  {
   "cell_type": "code",
   "execution_count": 15,
   "id": "d533cfe2-e354-4547-b815-cb70b65b9695",
   "metadata": {},
   "outputs": [
    {
     "name": "stdout",
     "output_type": "stream",
     "text": [
      "1\n"
     ]
    }
   ],
   "source": [
    "#Index() - Returns the index of the first element with specified value\n",
    "Colours=[ 'Purple', 'Red', 'Blue' ,'Yellow']\n",
    "x=Colours.index(\"Red\")\n",
    "print(x)"
   ]
  },
  {
   "cell_type": "code",
   "execution_count": 18,
   "id": "63a30f81-a7d8-4be6-aafa-6f4c4da27162",
   "metadata": {},
   "outputs": [
    {
     "name": "stdout",
     "output_type": "stream",
     "text": [
      "['Purlple', 'Red', 'Black', 'Blue', 'Yellow']\n"
     ]
    }
   ],
   "source": [
    "#Insert() - Adds an elements at the specified Position\n",
    "Colours=['Purlple', 'Red', 'Blue' , 'Yellow']\n",
    "Colours.insert(2, \"Black\")\n",
    "print(Colours)"
   ]
  },
  {
   "cell_type": "code",
   "execution_count": 19,
   "id": "0a23e344-1972-47d9-9260-ec451ec74137",
   "metadata": {},
   "outputs": [
    {
     "name": "stdout",
     "output_type": "stream",
     "text": [
      "['Purple', 'Red', 'Yellow']\n"
     ]
    }
   ],
   "source": [
    "#Pop() - Removes the item with the specified Position\n",
    "Colours= ['Purple', 'Red', 'Blue' , 'Yellow']\n",
    "Colours.pop(2)\n",
    "print(Colours)"
   ]
  },
  {
   "cell_type": "code",
   "execution_count": 20,
   "id": "49202a18-1ab7-498f-9933-2c6df0e09a4c",
   "metadata": {},
   "outputs": [
    {
     "name": "stdout",
     "output_type": "stream",
     "text": [
      "[2, 1, 7, 6, 5, 3]\n"
     ]
    }
   ],
   "source": [
    "#Reverse() - Reversers the order of the list\n",
    "x=[ 3,5,6,7,1,2]\n",
    "x.reverse()\n",
    "print(x)"
   ]
  },
  {
   "cell_type": "code",
   "execution_count": 21,
   "id": "f5fae631-ab96-4079-90d2-5822b8e568fb",
   "metadata": {},
   "outputs": [
    {
     "name": "stdout",
     "output_type": "stream",
     "text": [
      "['black', 'purple', 'red']\n"
     ]
    }
   ],
   "source": [
    "#Sort()- Sorts the list\n",
    "Colours=['purple','red' ,'black']\n",
    "Colours.sort()\n",
    "print(Colours)"
   ]
  },
  {
   "cell_type": "code",
   "execution_count": 22,
   "id": "bdf9cfb2-c3e8-4549-b17d-d83a56fad43d",
   "metadata": {},
   "outputs": [
    {
     "name": "stdout",
     "output_type": "stream",
     "text": [
      "[3, 4, 1, 2, 15, 65]\n"
     ]
    }
   ],
   "source": [
    "#Remove - Remove the first item with th specified value \n",
    "x= [ 3,4,5,1,2,15,65]\n",
    "x.remove(5)\n",
    "print(x)\n"
   ]
  },
  {
   "cell_type": "code",
   "execution_count": null,
   "id": "4a73a762-45cb-4544-9cea-8ab9bb233b6b",
   "metadata": {},
   "outputs": [],
   "source": []
  }
 ],
 "metadata": {
  "kernelspec": {
   "display_name": "Python 3 (ipykernel)",
   "language": "python",
   "name": "python3"
  },
  "language_info": {
   "codemirror_mode": {
    "name": "ipython",
    "version": 3
   },
   "file_extension": ".py",
   "mimetype": "text/x-python",
   "name": "python",
   "nbconvert_exporter": "python",
   "pygments_lexer": "ipython3",
   "version": "3.11.7"
  }
 },
 "nbformat": 4,
 "nbformat_minor": 5
}
