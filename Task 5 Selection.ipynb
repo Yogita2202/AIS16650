{
 "cells": [
  {
   "cell_type": "code",
   "execution_count": 1,
   "id": "2cfebbbd-689c-4b18-842f-c67d7498ccd2",
   "metadata": {},
   "outputs": [],
   "source": [
    "#Column selection: selecting one or more columns from the DataFrame.\n",
    "#Row selection: selecting rows by label or integer index.\n",
    "#Conditional selection: selecting rows based on a condition.\n",
    "#Column addition: adding a new column to the DataFrame.\n",
    "#Column deletion: removing a column from the DataFrame.\n",
    "#Column update: updating values in a column.\n",
    "#Indexing: setting a column as the index.\n",
    "#Removing index: resetting the index or removing it.\n",
    "#Operations between columns: performing arithmetic operations between columns."
   ]
  },
  {
   "cell_type": "code",
   "execution_count": 2,
   "id": "52b7b301-6a6e-4f9b-b3a2-58cfce19963a",
   "metadata": {},
   "outputs": [],
   "source": [
    "import pandas as pd\n",
    "\n",
    "# Create a sample DataFrame\n",
    "data = {'Name': ['Alice', 'Bob', 'Charlie', 'David', 'Emily'],\n",
    "        'Age': [25, 30, 35, 40, 45],\n",
    "        'City': ['New York', 'Los Angeles', 'Chicago', 'Houston', 'Boston']}\n",
    "df = pd.DataFrame(data)\n"
   ]
  },
  {
   "cell_type": "code",
   "execution_count": 3,
   "id": "4fe9360d-835c-449d-ac08-b876c3cbaab3",
   "metadata": {},
   "outputs": [
    {
     "name": "stdout",
     "output_type": "stream",
     "text": [
      "Column selection:\n",
      "0      Alice\n",
      "1        Bob\n",
      "2    Charlie\n",
      "3      David\n",
      "4      Emily\n",
      "Name: Name, dtype: object\n",
      "      Name         City\n",
      "0    Alice     New York\n",
      "1      Bob  Los Angeles\n",
      "2  Charlie      Chicago\n",
      "3    David      Houston\n",
      "4    Emily       Boston\n"
     ]
    }
   ],
   "source": [
    "# Column selection\n",
    "print(\"Column selection:\")\n",
    "print(df['Name'])  # Selecting a single column\n",
    "print(df[['Name', 'City']])  # Selecting multiple columns\n"
   ]
  },
  {
   "cell_type": "code",
   "execution_count": 4,
   "id": "ffb1f45e-1543-4f52-b658-e4cfb21a071f",
   "metadata": {},
   "outputs": [
    {
     "name": "stdout",
     "output_type": "stream",
     "text": [
      "\n",
      "Row selection:\n",
      "Name            Bob\n",
      "Age              30\n",
      "City    Los Angeles\n",
      "Name: 1, dtype: object\n",
      "Name    Charlie\n",
      "Age          35\n",
      "City    Chicago\n",
      "Name: 2, dtype: object\n",
      "      Name  Age         City\n",
      "1      Bob   30  Los Angeles\n",
      "2  Charlie   35      Chicago\n",
      "3    David   40      Houston\n"
     ]
    }
   ],
   "source": [
    "# Row selection\n",
    "print(\"\\nRow selection:\")\n",
    "print(df.loc[1])  # Selecting a single row by label\n",
    "print(df.iloc[2])  # Selecting a single row by integer index\n",
    "print(df.loc[1:3])  # Selecting multiple rows by label range"
   ]
  },
  {
   "cell_type": "code",
   "execution_count": 5,
   "id": "abe9fbb7-709c-42fd-b023-2acb3d0fc944",
   "metadata": {},
   "outputs": [
    {
     "name": "stdout",
     "output_type": "stream",
     "text": [
      "\n",
      "Conditional selection:\n",
      "      Name  Age     City\n",
      "2  Charlie   35  Chicago\n",
      "3    David   40  Houston\n",
      "4    Emily   45   Boston\n"
     ]
    }
   ],
   "source": [
    "# Conditional selection\n",
    "print(\"\\nConditional selection:\")\n",
    "print(df[df['Age'] > 30])  # Selecting rows based on condition\n"
   ]
  },
  {
   "cell_type": "code",
   "execution_count": 6,
   "id": "2a683779-d20d-450f-bba5-c6c0598b98e0",
   "metadata": {},
   "outputs": [
    {
     "name": "stdout",
     "output_type": "stream",
     "text": [
      "\n",
      "After adding 'Salary' column:\n",
      "      Name  Age         City  Salary\n",
      "0    Alice   25     New York   60000\n",
      "1      Bob   30  Los Angeles   70000\n",
      "2  Charlie   35      Chicago   80000\n",
      "3    David   40      Houston   90000\n",
      "4    Emily   45       Boston  100000\n"
     ]
    }
   ],
   "source": [
    "# Column addition\n",
    "df['Salary'] = [60000, 70000, 80000, 90000, 100000]\n",
    "print(\"\\nAfter adding 'Salary' column:\")\n",
    "print(df)"
   ]
  },
  {
   "cell_type": "code",
   "execution_count": 7,
   "id": "42aef560-a9c2-43da-8bb3-1c312807c2d3",
   "metadata": {},
   "outputs": [
    {
     "name": "stdout",
     "output_type": "stream",
     "text": [
      "\n",
      "After deleting 'City' column:\n",
      "      Name  Age  Salary\n",
      "0    Alice   25   60000\n",
      "1      Bob   30   70000\n",
      "2  Charlie   35   80000\n",
      "3    David   40   90000\n",
      "4    Emily   45  100000\n"
     ]
    }
   ],
   "source": [
    "# Column deletion\n",
    "df.drop(columns=['City'], inplace=True)\n",
    "print(\"\\nAfter deleting 'City' column:\")\n",
    "print(df)"
   ]
  },
  {
   "cell_type": "code",
   "execution_count": 8,
   "id": "249e9b89-d562-476e-b09a-6f4a8a5b9922",
   "metadata": {},
   "outputs": [
    {
     "name": "stdout",
     "output_type": "stream",
     "text": [
      "\n",
      "After updating 'Age' column:\n",
      "      Name  Age  Salary\n",
      "0    Alice   26   60000\n",
      "1      Bob   31   70000\n",
      "2  Charlie   36   80000\n",
      "3    David   41   90000\n",
      "4    Emily   46  100000\n"
     ]
    }
   ],
   "source": [
    "# Column update\n",
    "df['Age'] = df['Age'] + 1\n",
    "print(\"\\nAfter updating 'Age' column:\")\n",
    "print(df)"
   ]
  },
  {
   "cell_type": "code",
   "execution_count": 9,
   "id": "d8162ccb-debb-4d22-b338-36e26956450e",
   "metadata": {},
   "outputs": [
    {
     "name": "stdout",
     "output_type": "stream",
     "text": [
      "\n",
      "Indexing:\n",
      "         Age  Salary\n",
      "Name                \n",
      "Alice     26   60000\n",
      "Bob       31   70000\n",
      "Charlie   36   80000\n",
      "David     41   90000\n",
      "Emily     46  100000\n"
     ]
    }
   ],
   "source": [
    "# Indexing\n",
    "print(\"\\nIndexing:\")\n",
    "print(df.set_index('Name'))  # Setting 'Name' column as index\n"
   ]
  },
  {
   "cell_type": "code",
   "execution_count": 10,
   "id": "d2063564-4bbc-489c-80c8-481f1865a95e",
   "metadata": {},
   "outputs": [
    {
     "name": "stdout",
     "output_type": "stream",
     "text": [
      "\n",
      "Removing index:\n",
      "      Name  Age  Salary\n",
      "0    Alice   26   60000\n",
      "1      Bob   31   70000\n",
      "2  Charlie   36   80000\n",
      "3    David   41   90000\n",
      "4    Emily   46  100000\n"
     ]
    }
   ],
   "source": [
    "# Removing index\n",
    "print(\"\\nRemoving index:\")\n",
    "print(df.reset_index(drop=True))  # Resetting index and dropping old index\n"
   ]
  },
  {
   "cell_type": "code",
   "execution_count": 11,
   "id": "07479dfc-5262-4197-9804-d61ef5d5d85d",
   "metadata": {},
   "outputs": [
    {
     "name": "stdout",
     "output_type": "stream",
     "text": [
      "\n",
      "Operations between columns:\n",
      "      Name  Age  Salary  Age_Salary_Ratio\n",
      "0    Alice   26   60000          0.000433\n",
      "1      Bob   31   70000          0.000443\n",
      "2  Charlie   36   80000          0.000450\n",
      "3    David   41   90000          0.000456\n",
      "4    Emily   46  100000          0.000460\n"
     ]
    }
   ],
   "source": [
    "# Operations between columns\n",
    "print(\"\\nOperations between columns:\")\n",
    "df['Age_Salary_Ratio'] = df['Age'] / df['Salary']\n",
    "print(df)"
   ]
  },
  {
   "cell_type": "code",
   "execution_count": 12,
   "id": "a7c07c1f-5507-4823-89d6-fff502a33db0",
   "metadata": {},
   "outputs": [
    {
     "name": "stdout",
     "output_type": "stream",
     "text": [
      "\n",
      "Operations between columns:\n",
      "      Name  Age  Salary  Age_Salary_Ratio\n",
      "0    Alice   26   60000           1560000\n",
      "1      Bob   31   70000           2170000\n",
      "2  Charlie   36   80000           2880000\n",
      "3    David   41   90000           3690000\n",
      "4    Emily   46  100000           4600000\n"
     ]
    }
   ],
   "source": [
    "# Operations between columns\n",
    "print(\"\\nOperations between columns:\")\n",
    "df['Age_Salary_Ratio'] = df['Age'] * df['Salary']\n",
    "print(df)"
   ]
  },
  {
   "cell_type": "code",
   "execution_count": 13,
   "id": "713f7d3e-a6b6-40ca-a42b-3e793144d974",
   "metadata": {},
   "outputs": [
    {
     "name": "stdout",
     "output_type": "stream",
     "text": [
      "\n",
      "Operations between columns:\n",
      "      Name  Age  Salary  Age_Salary_Ratio\n",
      "0    Alice   26   60000             60026\n",
      "1      Bob   31   70000             70031\n",
      "2  Charlie   36   80000             80036\n",
      "3    David   41   90000             90041\n",
      "4    Emily   46  100000            100046\n"
     ]
    }
   ],
   "source": [
    "# Operations between columns\n",
    "print(\"\\nOperations between columns:\")\n",
    "df['Age_Salary_Ratio'] = df['Age'] + df['Salary']\n",
    "print(df)"
   ]
  },
  {
   "cell_type": "code",
   "execution_count": 14,
   "id": "26b7f237-12ad-4ae5-8070-acc5e9a00d79",
   "metadata": {},
   "outputs": [
    {
     "name": "stdout",
     "output_type": "stream",
     "text": [
      "\n",
      "Operations between columns:\n",
      "      Name  Age  Salary  Age_Salary_Ratio\n",
      "0    Alice   26   60000            -59974\n",
      "1      Bob   31   70000            -69969\n",
      "2  Charlie   36   80000            -79964\n",
      "3    David   41   90000            -89959\n",
      "4    Emily   46  100000            -99954\n"
     ]
    }
   ],
   "source": [
    "# Operations between columns\n",
    "print(\"\\nOperations between columns:\")\n",
    "df['Age_Salary_Ratio'] = df['Age'] - df['Salary']\n",
    "print(df)"
   ]
  },
  {
   "cell_type": "code",
   "execution_count": null,
   "id": "d9fc6445-3f3e-4076-90dd-5a1fba2a93cc",
   "metadata": {},
   "outputs": [],
   "source": []
  }
 ],
 "metadata": {
  "kernelspec": {
   "display_name": "Python 3 (ipykernel)",
   "language": "python",
   "name": "python3"
  },
  "language_info": {
   "codemirror_mode": {
    "name": "ipython",
    "version": 3
   },
   "file_extension": ".py",
   "mimetype": "text/x-python",
   "name": "python",
   "nbconvert_exporter": "python",
   "pygments_lexer": "ipython3",
   "version": "3.11.7"
  }
 },
 "nbformat": 4,
 "nbformat_minor": 5
}
