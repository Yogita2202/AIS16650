{
 "cells": [
  {
   "cell_type": "code",
   "execution_count": 1,
   "id": "80b44ec9-7cc1-4141-95c9-ec8da222cad9",
   "metadata": {},
   "outputs": [
    {
     "name": "stdout",
     "output_type": "stream",
     "text": [
      "Yogita\n"
     ]
    }
   ],
   "source": [
    "#Variable Declaration rule \n",
    "#declare a variable start with a-z or A-Z\n",
    "Name=\"Yogita\" # Str value must be single quote ('\") or double quote (\"\")  ##a-z, A-z, 0-9, special char all are allowed\n",
    "print(Name)"
   ]
  },
  {
   "cell_type": "code",
   "execution_count": 2,
   "id": "29d041fd-bede-4511-b312-cf84139f5213",
   "metadata": {},
   "outputs": [
    {
     "name": "stdout",
     "output_type": "stream",
     "text": [
      "Welcome to AIC Solutions\n"
     ]
    }
   ],
   "source": [
    "MSG= \"Welcome to AIC Solutions\"\n",
    "print(MSG)"
   ]
  },
  {
   "cell_type": "code",
   "execution_count": 3,
   "id": "d7bc7860-554a-4790-ba82-70180e97b98c",
   "metadata": {},
   "outputs": [
    {
     "name": "stdout",
     "output_type": "stream",
     "text": [
      "10\n"
     ]
    }
   ],
   "source": [
    "#declare with underscore (_) is allowed in special char\n",
    "_var=10 ##integer 0-9 ##no need single quote('') or double quote(\"\")\n",
    "print(_var)"
   ]
  },
  {
   "cell_type": "code",
   "execution_count": 4,
   "id": "bbdeef21-0cfa-42a2-86aa-e2f1c5555a30",
   "metadata": {},
   "outputs": [
    {
     "ename": "SyntaxError",
     "evalue": "invalid syntax (1718558877.py, line 3)",
     "output_type": "error",
     "traceback": [
      "\u001b[1;36m  Cell \u001b[1;32mIn[4], line 3\u001b[1;36m\u001b[0m\n\u001b[1;33m    print(%var)\u001b[0m\n\u001b[1;37m          ^\u001b[0m\n\u001b[1;31mSyntaxError\u001b[0m\u001b[1;31m:\u001b[0m invalid syntax\n"
     ]
    }
   ],
   "source": [
    "##Invalid varibles\n",
    "%var=15 ## start with special char is not allowed\n",
    "print(%var)"
   ]
  },
  {
   "cell_type": "code",
   "execution_count": 5,
   "id": "13c3bfb7-6fc7-439c-b4fa-468d8f67873d",
   "metadata": {},
   "outputs": [
    {
     "ename": "SyntaxError",
     "evalue": "invalid decimal literal (1483008706.py, line 1)",
     "output_type": "error",
     "traceback": [
      "\u001b[1;36m  Cell \u001b[1;32mIn[5], line 1\u001b[1;36m\u001b[0m\n\u001b[1;33m    99_abc='python'\u001b[0m\n\u001b[1;37m      ^\u001b[0m\n\u001b[1;31mSyntaxError\u001b[0m\u001b[1;31m:\u001b[0m invalid decimal literal\n"
     ]
    }
   ],
   "source": [
    "99_abc='python' ##start with the integer is also not allowed\n",
    "print(99_abc)"
   ]
  },
  {
   "cell_type": "code",
   "execution_count": null,
   "id": "3593f4ab-d11e-4db4-a92c-f5fec79b9895",
   "metadata": {},
   "outputs": [],
   "source": []
  }
 ],
 "metadata": {
  "kernelspec": {
   "display_name": "Python 3 (ipykernel)",
   "language": "python",
   "name": "python3"
  },
  "language_info": {
   "codemirror_mode": {
    "name": "ipython",
    "version": 3
   },
   "file_extension": ".py",
   "mimetype": "text/x-python",
   "name": "python",
   "nbconvert_exporter": "python",
   "pygments_lexer": "ipython3",
   "version": "3.11.7"
  }
 },
 "nbformat": 4,
 "nbformat_minor": 5
}
