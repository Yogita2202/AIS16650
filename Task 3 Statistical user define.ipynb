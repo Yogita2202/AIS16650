{
 "cells": [
  {
   "cell_type": "code",
   "execution_count": 4,
   "id": "6b1f5373-c88b-4914-9a87-5edfa7d78a99",
   "metadata": {},
   "outputs": [],
   "source": [
    "# Mean The mean is usually referred to as 'the average'The mean is the sum of all the values in the data divided by the total number of values in the data.\n",
    "#The mean is calculated for numerical variables.\n",
    "#A variable is something in the data that can vary,like:Age Height Incomenumber of values"
   ]
  },
  {
   "cell_type": "code",
   "execution_count": 5,
   "id": "c17c45a8-26de-45c7-b19e-7da804dbd50c",
   "metadata": {},
   "outputs": [
    {
     "name": "stdout",
     "output_type": "stream",
     "text": [
      "9.0\n"
     ]
    }
   ],
   "source": [
    "#1\n",
    "import numpy\n",
    "\n",
    "values = [4,11,7,14]\n",
    "\n",
    "x = numpy.mean(values)\n",
    "\n",
    "print(x)"
   ]
  },
  {
   "cell_type": "code",
   "execution_count": 6,
   "id": "a4eeddb9-9a03-41ee-9bb9-dd3b6dc74add",
   "metadata": {},
   "outputs": [],
   "source": [
    "#Median The median is the middle value in a data set ordered from low to high.\n",
    "#Finding the Median The median can only be calculated for numerical variablesd."
   ]
  },
  {
   "cell_type": "code",
   "execution_count": 7,
   "id": "c3868d49-3cda-4c4a-a080-e6cfa57e3fe5",
   "metadata": {},
   "outputs": [
    {
     "name": "stdout",
     "output_type": "stream",
     "text": [
      "51.0\n"
     ]
    }
   ],
   "source": [
    "import numpy\n",
    "\n",
    "values = [9,15,28,36,45,57,63,75,86,93]\n",
    "\n",
    "x = numpy.median(values)\n",
    "\n",
    "print(x)"
   ]
  },
  {
   "cell_type": "code",
   "execution_count": 8,
   "id": "03e89527-0a5f-4c10-88a7-6ebbf4dce3cf",
   "metadata": {},
   "outputs": [],
   "source": [
    "#Mode The mode is the value(s) that are the most common in the data.\n",
    "#A dataset can have multiple values that are modes.A distribution of values with only one mode is called unimodal.\n",
    "#A distribution of values with two modes is called bimodal. In general, a distribution with more than one mode is called multimodal.\n",
    "#Mode can be found for both categorical and numerical data.\n"
   ]
  },
  {
   "cell_type": "code",
   "execution_count": 9,
   "id": "ea218bd2-15cd-492c-9e70-f56cf064f2ef",
   "metadata": {},
   "outputs": [
    {
     "name": "stdout",
     "output_type": "stream",
     "text": [
      "[12, 23]\n"
     ]
    }
   ],
   "source": [
    "from statistics import multimode\n",
    "\n",
    "values = [2,6,8,10,12,12,15,16,18,17,19,21,22,23,23]\n",
    "\n",
    "x = multimode(values)\n",
    "\n",
    "print(x)"
   ]
  },
  {
   "cell_type": "code",
   "execution_count": 10,
   "id": "eec72387-1991-4405-b378-c134a75c18a4",
   "metadata": {},
   "outputs": [],
   "source": [
    "#The Variation of the Data Measures of variation are statistics of how far away the values in the observations (data points) are from each other.\n",
    "#There are different measures of variation. The most commonly used are:\n",
    "#Range Quartiles and Percentiles Interquartile Range Standard Deviation Measures of variation combined with an average (measure of center) gives a good picture of the distribution of the data.\n",
    "#Note: These measures of variation can only be calculated for numerical data."
   ]
  },
  {
   "cell_type": "code",
   "execution_count": 11,
   "id": "0b963826-85df-47f0-84b9-6223b4822d0f",
   "metadata": {},
   "outputs": [
    {
     "ename": "NameError",
     "evalue": "name 'variation' is not defined",
     "output_type": "error",
     "traceback": [
      "\u001b[1;31m---------------------------------------------------------------------------\u001b[0m",
      "\u001b[1;31mNameError\u001b[0m                                 Traceback (most recent call last)",
      "Cell \u001b[1;32mIn[11], line 8\u001b[0m\n\u001b[0;32m      1\u001b[0m \u001b[38;5;66;03m#Range\u001b[39;00m\n\u001b[0;32m      2\u001b[0m \u001b[38;5;66;03m#The range is the difference between the smallest and the largest value of the data.\u001b[39;00m\n\u001b[0;32m      3\u001b[0m \u001b[38;5;66;03m#Range is the simplest measure of variation.\u001b[39;00m\n\u001b[0;32m      4\u001b[0m \u001b[38;5;66;03m#Here is a histogram of the age of all 934 Nobel Prize winners up to the year 2020, showing the range\u001b[39;00m\n\u001b[0;32m      5\u001b[0m \u001b[38;5;66;03m#From statistics import range\u001b[39;00m\n\u001b[0;32m      7\u001b[0m values \u001b[38;5;241m=\u001b[39m [\u001b[38;5;241m11\u001b[39m,\u001b[38;5;241m12\u001b[39m,\u001b[38;5;241m19\u001b[39m,\u001b[38;5;241m22\u001b[39m,\u001b[38;5;241m28\u001b[39m,\u001b[38;5;241m30\u001b[39m,\u001b[38;5;241m30\u001b[39m,\u001b[38;5;241m33\u001b[39m,\u001b[38;5;241m35\u001b[39m,\u001b[38;5;241m36\u001b[39m,\u001b[38;5;241m39\u001b[39m,\u001b[38;5;241m42\u001b[39m,\u001b[38;5;241m43\u001b[39m,\u001b[38;5;241m45\u001b[39m]\n\u001b[1;32m----> 8\u001b[0m x \u001b[38;5;241m=\u001b[39m variation(values)\n\u001b[0;32m      9\u001b[0m \u001b[38;5;28mprint\u001b[39m(x)\n",
      "\u001b[1;31mNameError\u001b[0m: name 'variation' is not defined"
     ]
    }
   ],
   "source": [
    "#Range\n",
    "#The range is the difference between the smallest and the largest value of the data.\n",
    "#Range is the simplest measure of variation.\n",
    "#Here is a histogram of the age of all 934 Nobel Prize winners up to the year 2020, showing the range\n",
    "#From statistics import range\n",
    "\n",
    "values = [11,12,19,22,28,30,30,33,35,36,39,42,43,45]\n",
    "x = variation(values)\n",
    "print(x)"
   ]
  },
  {
   "cell_type": "code",
   "execution_count": null,
   "id": "c2397132-87e2-47d1-8e67-bb63093b2e69",
   "metadata": {},
   "outputs": [],
   "source": []
  }
 ],
 "metadata": {
  "kernelspec": {
   "display_name": "Python 3 (ipykernel)",
   "language": "python",
   "name": "python3"
  },
  "language_info": {
   "codemirror_mode": {
    "name": "ipython",
    "version": 3
   },
   "file_extension": ".py",
   "mimetype": "text/x-python",
   "name": "python",
   "nbconvert_exporter": "python",
   "pygments_lexer": "ipython3",
   "version": "3.11.7"
  }
 },
 "nbformat": 4,
 "nbformat_minor": 5
}
