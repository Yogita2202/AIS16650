{
 "cells": [
  {
   "cell_type": "code",
   "execution_count": 1,
   "id": "84f7625c-d700-4569-a7be-118446525efe",
   "metadata": {},
   "outputs": [],
   "source": [
    "#The continue Statement With the continue statement we can stop the current iteration of the loop, and continue with the next"
   ]
  },
  {
   "cell_type": "code",
   "execution_count": 2,
   "id": "cc4f91e9-af18-4579-9c6b-3a7f01d961e9",
   "metadata": {},
   "outputs": [
    {
     "name": "stdout",
     "output_type": "stream",
     "text": [
      "apple\n",
      "cherry\n",
      "mango\n"
     ]
    }
   ],
   "source": [
    "#1\n",
    "fruits = [\"apple\", \"banana\", \"cherry\",\"mango\"]\n",
    "for x in fruits:\n",
    "  if x == \"banana\":\n",
    "    continue\n",
    "  print(x)"
   ]
  },
  {
   "cell_type": "code",
   "execution_count": 4,
   "id": "d3c778b9-1bc4-4180-b31c-8ea2898be353",
   "metadata": {},
   "outputs": [
    {
     "name": "stdout",
     "output_type": "stream",
     "text": [
      "ani\n",
      "akansha\n",
      "rani\n",
      "sahili\n",
      "ovi\n"
     ]
    }
   ],
   "source": [
    "#2\n",
    "friends = [\"ani\",\"akansha\",\"rani\",\"sahili\",\"ovi\"]\n",
    "for a in friends:\n",
    "    if a == \"rahul\":\n",
    "      continue\n",
    "    print(a)"
   ]
  },
  {
   "cell_type": "code",
   "execution_count": 5,
   "id": "a0864604-04f5-420e-929e-ee40d6567e56",
   "metadata": {},
   "outputs": [
    {
     "name": "stdout",
     "output_type": "stream",
     "text": [
      "jain\n",
      "Hindu\n",
      "Khrichan\n"
     ]
    }
   ],
   "source": [
    "#3\n",
    "religan = [\"jain\",\"Hindu\",\"muslim\",\"Khrichan\"]\n",
    "for d in religan:\n",
    "    if d == \"muslim\":\n",
    "       continue\n",
    "    print(d)\n"
   ]
  },
  {
   "cell_type": "code",
   "execution_count": null,
   "id": "f4e82e61-aef5-46be-834b-20e22f8892f0",
   "metadata": {},
   "outputs": [],
   "source": []
  }
 ],
 "metadata": {
  "kernelspec": {
   "display_name": "Python 3 (ipykernel)",
   "language": "python",
   "name": "python3"
  },
  "language_info": {
   "codemirror_mode": {
    "name": "ipython",
    "version": 3
   },
   "file_extension": ".py",
   "mimetype": "text/x-python",
   "name": "python",
   "nbconvert_exporter": "python",
   "pygments_lexer": "ipython3",
   "version": "3.11.7"
  }
 },
 "nbformat": 4,
 "nbformat_minor": 5
}
