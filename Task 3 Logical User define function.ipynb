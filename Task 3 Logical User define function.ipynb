{
 "cells": [
  {
   "cell_type": "code",
   "execution_count": 1,
   "id": "a0753db5",
   "metadata": {},
   "outputs": [
    {
     "name": "stdout",
     "output_type": "stream",
     "text": [
      "Odd\n"
     ]
    }
   ],
   "source": [
    "#Odd:\n",
    "def oddeven(number):\n",
    "    if number%2==0:\n",
    "        return'Even'\n",
    "    else:\n",
    "        return'Odd'\n",
    "result=oddeven(7)\n",
    "print(result)"
   ]
  },
  {
   "cell_type": "code",
   "execution_count": 5,
   "id": "0e3a162a",
   "metadata": {},
   "outputs": [
    {
     "name": "stdout",
     "output_type": "stream",
     "text": [
      "Enter number14\n",
      "the number 14 is Even\n"
     ]
    }
   ],
   "source": [
    "#even:\n",
    "def is_ev_od(n):\n",
    "    if n%2==0:\n",
    "        return \"Even\"\n",
    "    else:\n",
    "        return \"Odd\"\n",
    "no=int(input(\"Enter number\"))\n",
    "result=is_ev_od(no)\n",
    "print(\"the number\",no,\"is\",result)"
   ]
  },
  {
   "cell_type": "code",
   "execution_count": 45,
   "id": "a875d7e1",
   "metadata": {},
   "outputs": [
    {
     "name": "stdout",
     "output_type": "stream",
     "text": [
      "Alicehas passed with a grade of 75\n",
      "Bobhas passed with a grade of 60\n",
      "charliehas passed with a grade of 85\n",
      "davidhas failed with a grade of 40\n"
     ]
    }
   ],
   "source": [
    "students=['Alice','Bob','charlie','david']\n",
    "grades=[75,60,85,40,90]\n",
    "for i in range(len(students)):\n",
    "    if grades[i]>=60:\n",
    "        print(f'{students[i]}has passed with a grade of {grades[i]}')\n",
    "    else:\n",
    "            print(f'{students[i]}has failed with a grade of {grades[i]}')"
   ]
  },
  {
   "cell_type": "code",
   "execution_count": 25,
   "id": "29444a32",
   "metadata": {},
   "outputs": [
    {
     "data": {
      "text/plain": [
       "31.41592653589793"
      ]
     },
     "execution_count": 25,
     "metadata": {},
     "output_type": "execute_result"
    }
   ],
   "source": [
    "#radius: This fun calculates the area of a circle given its radius as input.\n",
    "import math\n",
    "\n",
    "def cal_area_of_circle(radius):\n",
    "    area=math.pi*radius*2\n",
    "    return area\n",
    "rad=5\n",
    "cal_area_of_circle(radius)"
   ]
  },
  {
   "cell_type": "code",
   "execution_count": 40,
   "id": "fb0213f4",
   "metadata": {},
   "outputs": [
    {
     "name": "stdout",
     "output_type": "stream",
     "text": [
      "Enter a number:  5\n",
      "It is prime\n"
     ]
    }
   ],
   "source": [
    "#Prime numbers: This function checks if a numbers is a prime or not.\n",
    "def prime(n):\n",
    "    if n <=1:\n",
    "        return \"not prime\"\n",
    "    else:\n",
    "        i=2\n",
    "        while i <n:\n",
    "            if n%i==0:\n",
    "                return \"it is not prime\"\n",
    "            else:\n",
    "                return \"It is prime\"\n",
    "                i=i+1\n",
    "num=int(input(\"Enter a number:  \"))\n",
    "print(prime(num))"
   ]
  },
  {
   "cell_type": "code",
   "execution_count": 6,
   "id": "e783bb34",
   "metadata": {},
   "outputs": [
    {
     "name": "stdout",
     "output_type": "stream",
     "text": [
      "Enter a number: 4\n",
      "it is not prime\n"
     ]
    }
   ],
   "source": [
    "def prime(n):\n",
    "    if n <=1:\n",
    "        return \"not prime\"\n",
    "    else:\n",
    "        i=2\n",
    "        while i <n:\n",
    "            if n%i==0:\n",
    "                return \"it is not prime\"\n",
    "            else:\n",
    "                return \"It is prime\"\n",
    "                i=i+1\n",
    "num=int(input(\"Enter a number: \"))\n",
    "print(prime(num))"
   ]
  },
  {
   "cell_type": "code",
   "execution_count": 52,
   "id": "2be1d85c",
   "metadata": {},
   "outputs": [
    {
     "name": "stdout",
     "output_type": "stream",
     "text": [
      "The max number in the list is:50\n"
     ]
    }
   ],
   "source": [
    "#Maximum:This function finds the maximum number in a list of numbers.\n",
    "def find_max_value(input_list):\n",
    "    max_value=max(input_list)\n",
    "    return max_value\n",
    "numbers=[25,10,45,30,50]\n",
    "max_number= find_max_value(numbers)\n",
    "print(f\"The max number in the list is:{max_number}\")    "
   ]
  },
  {
   "cell_type": "code",
   "execution_count": 57,
   "id": "b0a4bc61",
   "metadata": {},
   "outputs": [
    {
     "name": "stdout",
     "output_type": "stream",
     "text": [
      "The number of vowels in the text is:1\n"
     ]
    }
   ],
   "source": [
    "#Count:\n",
    "def count_vowels(input_string):\n",
    "        vowels='aeiouAEIOU'\n",
    "        vowel_count=0\n",
    "        for char in vowels:\n",
    "            vowel_count+=1\n",
    "            return vowel_count\n",
    "input_text='Hello,how are you'\n",
    "num_vowels=count_vowels(input_text)\n",
    "print(f\"The number of vowels in the text is:{num_vowels}\")"
   ]
  },
  {
   "cell_type": "code",
   "execution_count": 11,
   "id": "5a3481ad",
   "metadata": {},
   "outputs": [
    {
     "name": "stdout",
     "output_type": "stream",
     "text": [
      "enter a num 6\n",
      "factorial is: 720\n"
     ]
    }
   ],
   "source": [
    "#Factorial:\n",
    "def factorial(n):\n",
    "    fact=1\n",
    "    for i in range(1,n+1):\n",
    "        fact=fact*i\n",
    "    return fact\n",
    "number=int(input(\"enter a num \"))\n",
    "f=factorial(number)\n",
    "print(\"factorial is:\",f)"
   ]
  },
  {
   "cell_type": "code",
   "execution_count": 9,
   "id": "6e8dfcdc",
   "metadata": {},
   "outputs": [],
   "source": [
    "# Fibonacci Sequence:This function finds the maximum number in list of numbers.\n",
    "def generate_fibonacci_sequence(n):\n",
    "    while len(fibonacci_sequence)<n:\n",
    "        next_number=fibonacci_sequence[-1]+fibonacci_sequence[-2]\n",
    "        fibonacci_sequence.append(next_number)\n",
    "        return fibonacci_sequence\n",
    "    num_terms=10\n",
    "    fib_sequence=generate_fibonacci_sequence(num_terms)\n",
    "    print(f\"The Fibonacci sequence with {num_terms}terms is:{fib_sequence}\")"
   ]
  }
 ],
 "metadata": {
  "kernelspec": {
   "display_name": "Python 3 (ipykernel)",
   "language": "python",
   "name": "python3"
  },
  "language_info": {
   "codemirror_mode": {
    "name": "ipython",
    "version": 3
   },
   "file_extension": ".py",
   "mimetype": "text/x-python",
   "name": "python",
   "nbconvert_exporter": "python",
   "pygments_lexer": "ipython3",
   "version": "3.9.13"
  }
 },
 "nbformat": 4,
 "nbformat_minor": 5
}
