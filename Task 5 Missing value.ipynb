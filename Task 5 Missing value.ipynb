{
 "cells": [
  {
   "cell_type": "code",
   "execution_count": 1,
   "id": "3e20891c-5856-419b-8452-beb479917551",
   "metadata": {},
   "outputs": [],
   "source": [
    "#Checking for missing values using isnull() method.\n",
    "#Counting missing values using isnull().sum().\n",
    "#Dropping rows with missing values using dropna(axis=0).\n",
    "#Dropping columns with missing values using dropna(axis=1).\n",
    "#Filling missing values with the mean or median using fillna() method with mean() or median()."
   ]
  },
  {
   "cell_type": "code",
   "execution_count": 2,
   "id": "2b299ebd-e354-44cd-a971-f6acfc6da054",
   "metadata": {},
   "outputs": [],
   "source": [
    "import pandas as pd\n",
    "import numpy as np\n"
   ]
  },
  {
   "cell_type": "code",
   "execution_count": 3,
   "id": "6f3ff816-b3d8-4b22-9a6f-069ad71e19e2",
   "metadata": {},
   "outputs": [],
   "source": [
    "# Create a sample DataFrame with missing values\n",
    "data = {'Name': ['Alice', 'Bob', 'Charlie', np.nan, 'Emily'],\n",
    "        'Age': [25, np.nan, 35, 40, 45],\n",
    "        'City': ['New York', 'Los Angeles', np.nan, 'Houston', 'Boston']}\n",
    "df = pd.DataFrame(data)\n"
   ]
  },
  {
   "cell_type": "code",
   "execution_count": 4,
   "id": "ff75b1c7-6f69-4770-99fd-7da8f2968159",
   "metadata": {},
   "outputs": [
    {
     "name": "stdout",
     "output_type": "stream",
     "text": [
      "Checking for missing values:\n",
      "    Name    Age   City\n",
      "0  False  False  False\n",
      "1  False   True  False\n",
      "2  False  False   True\n",
      "3   True  False  False\n",
      "4  False  False  False\n"
     ]
    }
   ],
   "source": [
    "# Check for missing values\n",
    "print(\"Checking for missing values:\")\n",
    "print(df.isnull())  # True indicates missing value, False indicates non-missing value"
   ]
  },
  {
   "cell_type": "code",
   "execution_count": 5,
   "id": "00b06617-6f5e-4734-b0b5-5d59a190493f",
   "metadata": {},
   "outputs": [
    {
     "name": "stdout",
     "output_type": "stream",
     "text": [
      "\n",
      "Count of missing values in each column:\n",
      "Name    1\n",
      "Age     1\n",
      "City    1\n",
      "dtype: int64\n"
     ]
    }
   ],
   "source": [
    "# Count missing values\n",
    "print(\"\\nCount of missing values in each column:\")\n",
    "print(df.isnull().sum())"
   ]
  },
  {
   "cell_type": "code",
   "execution_count": 6,
   "id": "8d7c6f80-f7dc-407f-9294-6fa045e5e5de",
   "metadata": {},
   "outputs": [
    {
     "name": "stdout",
     "output_type": "stream",
     "text": [
      "\n",
      "Dropping rows with missing values:\n",
      "    Name   Age      City\n",
      "0  Alice  25.0  New York\n",
      "4  Emily  45.0    Boston\n"
     ]
    }
   ],
   "source": [
    "# Drop rows with missing values\n",
    "print(\"\\nDropping rows with missing values:\")\n",
    "df_drop_row = df.dropna(axis=0)  # axis=0 for rows\n",
    "print(df_drop_row)\n"
   ]
  },
  {
   "cell_type": "code",
   "execution_count": 7,
   "id": "9994af08-6a86-401c-9f65-7e83bf5ae426",
   "metadata": {},
   "outputs": [
    {
     "name": "stdout",
     "output_type": "stream",
     "text": [
      "\n",
      "Dropping columns with missing values:\n",
      "Empty DataFrame\n",
      "Columns: []\n",
      "Index: [0, 1, 2, 3, 4]\n"
     ]
    }
   ],
   "source": [
    "# Drop columns with missing values\n",
    "print(\"\\nDropping columns with missing values:\")\n",
    "df_drop_col = df.dropna(axis=1)  # axis=1 for columns\n",
    "print(df_drop_col)"
   ]
  },
  {
   "cell_type": "code",
   "execution_count": 12,
   "id": "cea14edc-5b52-4ca8-9654-feeee76f5b7c",
   "metadata": {},
   "outputs": [
    {
     "name": "stdout",
     "output_type": "stream",
     "text": [
      "DataFrame with missing values filled with mean:\n",
      "    Age   Salary\n",
      "0  25.0  50000.0\n",
      "1  35.0  70000.0\n",
      "2  35.0  70000.0\n",
      "3  35.0  70000.0\n",
      "4  45.0  90000.0\n"
     ]
    }
   ],
   "source": [
    "import pandas as pd\n",
    "import numpy as np\n",
    "\n",
    "# Create a sample DataFrame with missing numerical values\n",
    "data = {'Age': [25, np.nan, 35, np.nan, 45],\n",
    "        'Salary': [50000, np.nan, 70000, np.nan, 90000]}\n",
    "df = pd.DataFrame(data)\n",
    "\n",
    "# Fill missing numerical values with mean\n",
    "df_filled_mean = df.fillna(df.mean())\n",
    "print(\"DataFrame with missing values filled with mean:\")\n",
    "print(df_filled_mean)"
   ]
  },
  {
   "cell_type": "code",
   "execution_count": 13,
   "id": "39242ecf-dd5f-44c4-939d-03c5a3f8e70c",
   "metadata": {},
   "outputs": [
    {
     "name": "stdout",
     "output_type": "stream",
     "text": [
      "\n",
      "DataFrame with missing values filled with median:\n",
      "    Age   Salary\n",
      "0  25.0  50000.0\n",
      "1  35.0  70000.0\n",
      "2  35.0  70000.0\n",
      "3  35.0  70000.0\n",
      "4  45.0  90000.0\n"
     ]
    }
   ],
   "source": [
    "# Create a sample DataFrame with missing numerical values\n",
    "data = {'Age': [25, np.nan, 35, np.nan, 45],\n",
    "        'Salary': [50000, np.nan, 70000, np.nan, 90000]}\n",
    "df = pd.DataFrame(data)\n",
    "\n",
    "# Fill missing numerical values with median\n",
    "df_filled_median = df.fillna(df.median())\n",
    "print(\"\\nDataFrame with missing values filled with median:\")\n",
    "print(df_filled_median)"
   ]
  },
  {
   "cell_type": "code",
   "execution_count": null,
   "id": "f53613ce-8632-482e-b1f2-a45eed0e5e3e",
   "metadata": {},
   "outputs": [],
   "source": []
  }
 ],
 "metadata": {
  "kernelspec": {
   "display_name": "Python 3 (ipykernel)",
   "language": "python",
   "name": "python3"
  },
  "language_info": {
   "codemirror_mode": {
    "name": "ipython",
    "version": 3
   },
   "file_extension": ".py",
   "mimetype": "text/x-python",
   "name": "python",
   "nbconvert_exporter": "python",
   "pygments_lexer": "ipython3",
   "version": "3.11.7"
  }
 },
 "nbformat": 4,
 "nbformat_minor": 5
}
