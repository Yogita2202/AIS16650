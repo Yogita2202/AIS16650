{
 "cells": [
  {
   "cell_type": "code",
   "execution_count": 4,
   "id": "76c46df5-d103-4af9-afbb-94f9de2d0cff",
   "metadata": {},
   "outputs": [
    {
     "name": "stdout",
     "output_type": "stream",
     "text": [
      "set()\n"
     ]
    }
   ],
   "source": [
    "#clear()- Removes all the elements from the dictionary\n",
    "girl={\n",
    "    \"Name\" == \"Yogita\",\n",
    "    \"BOD\"== 2202\n",
    "}\n",
    "girl.clear()\n",
    "print(girl)"
   ]
  },
  {
   "cell_type": "code",
   "execution_count": 9,
   "id": "6e1797c0-4621-46b9-89ea-0ffabadda209",
   "metadata": {},
   "outputs": [
    {
     "name": "stdout",
     "output_type": "stream",
     "text": [
      "{'Yogita', 'Maithili', 'Apurva', 'Arya'}\n"
     ]
    }
   ],
   "source": [
    "#copy() - Returns a copy of dictionary\n",
    "Names = { 'Apurva', 'Yogita', 'Maithili','Arya'}\n",
    "x=Names.copy()\n",
    "print(x)"
   ]
  },
  {
   "cell_type": "code",
   "execution_count": 10,
   "id": "933996b8-6160-46be-adab-85cd105650e5",
   "metadata": {},
   "outputs": [
    {
     "name": "stdout",
     "output_type": "stream",
     "text": [
      "{'Apurva': 1, 'Yogita': 1, 'Maithili': 1, 'Arya': 1}\n"
     ]
    }
   ],
   "source": [
    "#fromkeys() - returns a dictionary with the specified keys and value \n",
    "Names = ( 'Apurva', 'Yogita', 'Maithili','Arya')\n",
    "Ranks = (1)\n",
    "x=dict.fromkeys(Names,Ranks)\n",
    "print(x)"
   ]
  },
  {
   "cell_type": "code",
   "execution_count": 18,
   "id": "875c7cd0-0d25-46ae-a4e0-e7c0c5839279",
   "metadata": {},
   "outputs": [
    {
     "name": "stdout",
     "output_type": "stream",
     "text": [
      "1\n"
     ]
    }
   ],
   "source": [
    "#get() - Returns athe value of specified key\n",
    "topper = {\n",
    "    \"name\" : \"Apurva\",\n",
    "    \"BOD\" : 101,\n",
    "    \"Rank\" : 1\n",
    "}\n",
    "\n",
    "x=topper.get(\"Rank\")\n",
    "print(x)"
   ]
  },
  {
   "cell_type": "code",
   "execution_count": 20,
   "id": "58b810c5-4b20-4bc6-a589-e267c8e4c149",
   "metadata": {},
   "outputs": [
    {
     "name": "stdout",
     "output_type": "stream",
     "text": [
      "dict_items([('brand', 'Redmi'), ('model', 'Redmi10 prime'), ('year', '2017')])\n"
     ]
    }
   ],
   "source": [
    "#items() - returns a list containing a tuple for each keys value pair\n",
    "phone = {\n",
    "    \"brand\" : \"Redmi\",\n",
    "    \"model\" : \"Redmi10 prime\",\n",
    "    \"year\" : \"2017\"\n",
    "}\n",
    "x=phone.items()\n",
    "print(x)"
   ]
  },
  {
   "cell_type": "code",
   "execution_count": 21,
   "id": "5b08d01f-3284-4392-9e9e-cd2eab7a946b",
   "metadata": {},
   "outputs": [
    {
     "name": "stdout",
     "output_type": "stream",
     "text": [
      "dict_keys(['brand', 'model', 'year'])\n"
     ]
    }
   ],
   "source": [
    "#keys() - returns a list containing dictionary keys\n",
    "phone = {\n",
    "    \"brand\" : \"Redmi\",\n",
    "    \"model\" : \"Redmi10 prime\",\n",
    "    \"year\" : \"2017\"\n",
    "}\n",
    "x=phone.keys()\n",
    "print(x)"
   ]
  },
  {
   "cell_type": "code",
   "execution_count": 22,
   "id": "15f09964-7ae6-4c90-bfcb-f31205cecc26",
   "metadata": {},
   "outputs": [
    {
     "name": "stdout",
     "output_type": "stream",
     "text": [
      "{'brand': 'Redmi', 'model': 'Redmi10 prime'}\n"
     ]
    }
   ],
   "source": [
    "#popitem() - removes the last inserted key value pair\n",
    "phone = {\n",
    "    \"brand\" : \"Redmi\",\n",
    "    \"model\" : \"Redmi10 prime\",\n",
    "    \"year\" : \"2017\"\n",
    "}\n",
    "phone.popitem()\n",
    "print(phone)"
   ]
  },
  {
   "cell_type": "code",
   "execution_count": 23,
   "id": "38a64231-91b5-4f78-9914-fd1157c025b3",
   "metadata": {},
   "outputs": [
    {
     "name": "stdout",
     "output_type": "stream",
     "text": [
      "{'brand': 'Redmi', 'model': 'Redmi10 prime'}\n"
     ]
    }
   ],
   "source": [
    "#pop() - removes the element with specified key\n",
    "phone = {\n",
    "    \"brand\" : \"Redmi\",\n",
    "    \"model\" : \"Redmi10 prime\",\n",
    "    \"year\" : \"2017\"\n",
    "}\n",
    "phone.pop(\"year\")\n",
    "print(phone)"
   ]
  },
  {
   "cell_type": "code",
   "execution_count": 24,
   "id": "4e5365b9-ce6b-478a-9c37-449102cc155f",
   "metadata": {},
   "outputs": [
    {
     "name": "stdout",
     "output_type": "stream",
     "text": [
      "Redmi10 prime\n"
     ]
    }
   ],
   "source": [
    "#setdefault() - Returns the value of the specified key, if the key does not exist, insert the key , with the specified value\n",
    "phone = {\n",
    "    \"brand\" : \"Redmi\",\n",
    "    \"model\" : \"Redmi10 prime\",\n",
    "    \"year\" : \"2017\"\n",
    "}\n",
    "x=phone.setdefault(\"model\",\"White\")\n",
    "print(x)"
   ]
  },
  {
   "cell_type": "code",
   "execution_count": 26,
   "id": "0f406080-e1ce-43ad-8440-28d733af609a",
   "metadata": {},
   "outputs": [
    {
     "name": "stdout",
     "output_type": "stream",
     "text": [
      "{'brand': 'Redmi', 'model': 'Redmi10 prime', 'year': '2017', 'color': 'white'}\n"
     ]
    }
   ],
   "source": [
    "#update() - update the dictionary with the specified key value pairs\n",
    "phone = {\n",
    "    \"brand\" : \"Redmi\",\n",
    "    \"model\" : \"Redmi10 prime\",\n",
    "    \"year\" : \"2017\"\n",
    "}\n",
    "phone.update({\"color\":\"white\"})\n",
    "print(phone)"
   ]
  },
  {
   "cell_type": "code",
   "execution_count": null,
   "id": "ea0669a6-124f-4bf1-bb93-dd758b7163ca",
   "metadata": {},
   "outputs": [],
   "source": [
    "#values() - returns a list of all the values in the dictionary\n"
   ]
  }
 ],
 "metadata": {
  "kernelspec": {
   "display_name": "Python 3 (ipykernel)",
   "language": "python",
   "name": "python3"
  },
  "language_info": {
   "codemirror_mode": {
    "name": "ipython",
    "version": 3
   },
   "file_extension": ".py",
   "mimetype": "text/x-python",
   "name": "python",
   "nbconvert_exporter": "python",
   "pygments_lexer": "ipython3",
   "version": "3.11.7"
  }
 },
 "nbformat": 4,
 "nbformat_minor": 5
}
