{
 "cells": [
  {
   "cell_type": "code",
   "execution_count": null,
   "id": "d3f89e80-9909-402d-8ae6-4d039281f0c9",
   "metadata": {},
   "outputs": [],
   "source": [
    "# If...Else Conditions\n"
   ]
  },
  {
   "cell_type": "code",
   "execution_count": 1,
   "id": "440b511c-bdd3-40c3-a1eb-72bfa5cc2c13",
   "metadata": {},
   "outputs": [
    {
     "name": "stdout",
     "output_type": "stream",
     "text": [
      " b is greater than a \n"
     ]
    }
   ],
   "source": [
    "a=400\n",
    "b=500\n",
    "if a < b :\n",
    "    print(\" b is greater than a \")\n",
    "else :\n",
    "    print ( \"a is grater than b\")"
   ]
  },
  {
   "cell_type": "code",
   "execution_count": 2,
   "id": "fa380fe5-f34b-455b-8ab8-009b607224ac",
   "metadata": {},
   "outputs": [
    {
     "name": "stdout",
     "output_type": "stream",
     "text": [
      "both are equal\n"
     ]
    }
   ],
   "source": [
    "a= 500\n",
    "b=500\n",
    "if a !=b :\n",
    "    print(\"both are not equal\")\n",
    "else :\n",
    "    print(\"both are equal\")"
   ]
  },
  {
   "cell_type": "code",
   "execution_count": 3,
   "id": "a0f2be0f-63d1-4162-a13f-70179b9c87cc",
   "metadata": {},
   "outputs": [
    {
     "name": "stdout",
     "output_type": "stream",
     "text": [
      " b is greater than a \n"
     ]
    }
   ],
   "source": [
    "a=34\n",
    "b=54\n",
    "if a > b :\n",
    "    print (\"a is greter than b \")\n",
    "else : \n",
    "    print ( \" b is greater than a \" )"
   ]
  },
  {
   "cell_type": "code",
   "execution_count": 4,
   "id": "6aef477a-1cf3-4d66-8cb5-77955fa21ca8",
   "metadata": {},
   "outputs": [
    {
     "name": "stdout",
     "output_type": "stream",
     "text": [
      "both are equal\n"
     ]
    }
   ],
   "source": [
    "a= 300\n",
    "b= 300\n",
    "if a == b :\n",
    "    print(\"both are equal\")\n",
    "else :\n",
    "    print (\"both are unequal\")"
   ]
  },
  {
   "cell_type": "code",
   "execution_count": 2,
   "id": "ee10308d-93e4-4b60-a2ea-44751ff2787e",
   "metadata": {},
   "outputs": [
    {
     "name": "stdout",
     "output_type": "stream",
     "text": [
      " a is not equal as b\n"
     ]
    }
   ],
   "source": [
    "a=34\n",
    "b=43\n",
    "if a != b :\n",
    "    print(\" a is not equal as b\")\n",
    "else :\n",
    "    print ( \"both are unequal\")"
   ]
  },
  {
   "cell_type": "code",
   "execution_count": 3,
   "id": "d7b463d3-e6c4-411f-b57f-543789a86ca6",
   "metadata": {},
   "outputs": [
    {
     "name": "stdout",
     "output_type": "stream",
     "text": [
      "a is smaller than b\n"
     ]
    }
   ],
   "source": [
    "a=45\n",
    "b=54\n",
    "if a <= b :\n",
    "    print(\"a is smaller than b\")\n",
    "else :\n",
    "    print(\" b is greater than a \")"
   ]
  },
  {
   "cell_type": "code",
   "execution_count": 4,
   "id": "7c146762-95cf-4777-be64-067c1087e170",
   "metadata": {},
   "outputs": [
    {
     "name": "stdout",
     "output_type": "stream",
     "text": [
      "a is greater than b \n"
     ]
    }
   ],
   "source": [
    "a=54\n",
    "b=23\n",
    "if a > b :\n",
    "    print(\"a is greater than b \" )\n",
    "else :\n",
    "    print(\"b is smaller than b \")"
   ]
  },
  {
   "cell_type": "code",
   "execution_count": 5,
   "id": "ae639eee-2987-43b0-82c7-d2d257c81537",
   "metadata": {},
   "outputs": [
    {
     "name": "stdout",
     "output_type": "stream",
     "text": [
      " both are equal\n"
     ]
    }
   ],
   "source": [
    "a=22\n",
    "b=22\n",
    "if a != b :\n",
    "    print(\" both are unequal\")\n",
    "else :\n",
    "    print(\" both are equal\")"
   ]
  },
  {
   "cell_type": "code",
   "execution_count": 6,
   "id": "adb07074-7d6b-4e26-9107-8dea82b47c6c",
   "metadata": {},
   "outputs": [
    {
     "name": "stdout",
     "output_type": "stream",
     "text": [
      "y is greater than x\n"
     ]
    }
   ],
   "source": [
    "x=11\n",
    "y=54\n",
    "if x <= y :\n",
    "    print(\"y is greater than x\")\n",
    "else :\n",
    "    print(\"x is smaller than y\")"
   ]
  },
  {
   "cell_type": "code",
   "execution_count": 7,
   "id": "2f2eb26b-959e-41df-bbf4-7151f15aa423",
   "metadata": {},
   "outputs": [
    {
     "name": "stdout",
     "output_type": "stream",
     "text": [
      " a is smaller than b\n"
     ]
    }
   ],
   "source": [
    "a=100\n",
    "b=101\n",
    "if b >= a :\n",
    "    print(\" a is smaller than b\")\n",
    "else :\n",
    "    print(\" b is greater than a \")"
   ]
  },
  {
   "cell_type": "code",
   "execution_count": null,
   "id": "4a3330ef-226f-469d-b0a4-bae713166f20",
   "metadata": {},
   "outputs": [],
   "source": []
  }
 ],
 "metadata": {
  "kernelspec": {
   "display_name": "Python 3 (ipykernel)",
   "language": "python",
   "name": "python3"
  },
  "language_info": {
   "codemirror_mode": {
    "name": "ipython",
    "version": 3
   },
   "file_extension": ".py",
   "mimetype": "text/x-python",
   "name": "python",
   "nbconvert_exporter": "python",
   "pygments_lexer": "ipython3",
   "version": "3.11.7"
  }
 },
 "nbformat": 4,
 "nbformat_minor": 5
}
