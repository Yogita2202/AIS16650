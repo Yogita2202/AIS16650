{
 "cells": [
  {
   "cell_type": "code",
   "execution_count": 1,
   "id": "b51a8d3a-cda5-4b6b-b5f6-10b82395e452",
   "metadata": {},
   "outputs": [],
   "source": [
    "#value_counts(): Counts the occurrences of each unique value in a column.\n",
    "#apply(): Applies a function to each element of a DataFrame or Series.\n",
    "#unique(): Gets unique values in a column.\n",
    "#nunique(): Counts the number of unique values in a column.\n",
    "#describe(): Provides summary statistics of numerical columns (count, mean, std, min, 25%, 50%, 75%, max)."
   ]
  },
  {
   "cell_type": "code",
   "execution_count": 2,
   "id": "03cd7486-8245-4e78-8af5-0a312398d2d4",
   "metadata": {},
   "outputs": [],
   "source": [
    "import pandas as pd\n",
    "\n",
    "# Create a sample DataFrame\n",
    "data = {'Name': ['Alice', 'Bob', 'Charlie', 'David', 'Alice'],\n",
    "        'Age': [25, 30, 35, 40, 25],\n",
    "        'City': ['New York', 'Los Angeles', 'Chicago', 'Houston', 'New York']}\n",
    "df = pd.DataFrame(data)"
   ]
  },
  {
   "cell_type": "code",
   "execution_count": 3,
   "id": "44a591cb-7101-47ca-be88-63a55580b379",
   "metadata": {},
   "outputs": [
    {
     "name": "stdout",
     "output_type": "stream",
     "text": [
      "Value counts of 'Name':\n",
      "Name\n",
      "Alice      2\n",
      "Bob        1\n",
      "Charlie    1\n",
      "David      1\n",
      "Name: count, dtype: int64\n"
     ]
    }
   ],
   "source": [
    "# Value counts - counts the occurrences of each unique value in a column\n",
    "print(\"Value counts of 'Name':\")\n",
    "print(df['Name'].value_counts())\n"
   ]
  },
  {
   "cell_type": "code",
   "execution_count": 4,
   "id": "7a1afa57-303a-43a5-9814-1cd7b81f9e74",
   "metadata": {},
   "outputs": [
    {
     "name": "stdout",
     "output_type": "stream",
     "text": [
      "\n",
      "Applying a function to 'Age' column:\n",
      "0    26\n",
      "1    31\n",
      "2    36\n",
      "3    41\n",
      "4    26\n",
      "Name: Age, dtype: int64\n"
     ]
    }
   ],
   "source": [
    "# Apply - apply a function to each element of a DataFrame or Series\n",
    "print(\"\\nApplying a function to 'Age' column:\")\n",
    "print(df['Age'].apply(lambda x: x + 1))"
   ]
  },
  {
   "cell_type": "code",
   "execution_count": 5,
   "id": "8c25e7b5-84cd-4ae7-ab15-4cd78bf4df7a",
   "metadata": {},
   "outputs": [
    {
     "name": "stdout",
     "output_type": "stream",
     "text": [
      "\n",
      "Unique values of 'City':\n",
      "['New York' 'Los Angeles' 'Chicago' 'Houston']\n"
     ]
    }
   ],
   "source": [
    "# Unique - get unique values in a column\n",
    "print(\"\\nUnique values of 'City':\")\n",
    "print(df['City'].unique())\n"
   ]
  },
  {
   "cell_type": "code",
   "execution_count": 6,
   "id": "39c035dc-2dbf-49fc-9895-90448aaff38d",
   "metadata": {},
   "outputs": [
    {
     "name": "stdout",
     "output_type": "stream",
     "text": [
      "\n",
      "Number of unique values in 'City':\n",
      "4\n"
     ]
    }
   ],
   "source": [
    "# Nunique - count of unique values in a column\n",
    "print(\"\\nNumber of unique values in 'City':\")\n",
    "print(df['City'].nunique())\n"
   ]
  },
  {
   "cell_type": "code",
   "execution_count": 7,
   "id": "a9536872-189c-436f-8054-e3a90bcc7b80",
   "metadata": {},
   "outputs": [
    {
     "name": "stdout",
     "output_type": "stream",
     "text": [
      "\n",
      "Descriptive statistics of numerical columns:\n",
      "             Age\n",
      "count   5.000000\n",
      "mean   31.000000\n",
      "std     6.519202\n",
      "min    25.000000\n",
      "25%    25.000000\n",
      "50%    30.000000\n",
      "75%    35.000000\n",
      "max    40.000000\n"
     ]
    }
   ],
   "source": [
    "# Describe - summary statistics of numerical columns\n",
    "print(\"\\nDescriptive statistics of numerical columns:\")\n",
    "print(df.describe())"
   ]
  },
  {
   "cell_type": "code",
   "execution_count": null,
   "id": "3b6c49ba-6fb5-4710-9231-f0ad95f768fd",
   "metadata": {},
   "outputs": [],
   "source": []
  }
 ],
 "metadata": {
  "kernelspec": {
   "display_name": "Python 3 (ipykernel)",
   "language": "python",
   "name": "python3"
  },
  "language_info": {
   "codemirror_mode": {
    "name": "ipython",
    "version": 3
   },
   "file_extension": ".py",
   "mimetype": "text/x-python",
   "name": "python",
   "nbconvert_exporter": "python",
   "pygments_lexer": "ipython3",
   "version": "3.11.7"
  }
 },
 "nbformat": 4,
 "nbformat_minor": 5
}
